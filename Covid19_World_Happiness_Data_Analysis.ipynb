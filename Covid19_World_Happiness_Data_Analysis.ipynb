{
  "nbformat": 4,
  "nbformat_minor": 0,
  "metadata": {
    "kernelspec": {
      "display_name": "Python 3",
      "language": "python",
      "name": "python3"
    },
    "language_info": {
      "codemirror_mode": {
        "name": "ipython",
        "version": 3
      },
      "file_extension": ".py",
      "mimetype": "text/x-python",
      "name": "python",
      "nbconvert_exporter": "python",
      "pygments_lexer": "ipython3",
      "version": "3.7.3"
    },
    "colab": {
      "name": "Covid19-World Happiness Data Analysis.ipynb",
      "provenance": []
    }
  },
  "cells": [
    {
      "cell_type": "markdown",
      "metadata": {
        "id": "bfj1UAxPFtt4"
      },
      "source": [
        "# Covid19 Data Analysis Notebook\n",
        "------------------------------------------\n",
        "\n",
        "### Note: The Covid dataset is very old. It covers early 2020. For updated data packages like 'Covid' and 'Covid19py' are great and can fetch latest covid data "
      ]
    },
    {
      "cell_type": "code",
      "metadata": {
        "id": "NspkEudwFtt_",
        "outputId": "98fba008-e136-467c-ef91-cba05fd45ffc"
      },
      "source": [
        "import pandas as pd \n",
        "import numpy as np \n",
        "import seaborn as sns\n",
        "import matplotlib.pyplot as plt "
      ],
      "execution_count": null,
      "outputs": [
        {
          "output_type": "stream",
          "text": [
            "Modules are imported.\n"
          ],
          "name": "stdout"
        }
      ]
    },
    {
      "cell_type": "code",
      "metadata": {
        "id": "CY_FPtc6FtuD"
      },
      "source": [
        "df=pd.read_csv('Covid19_Confirmed_dataset.csv')"
      ],
      "execution_count": null,
      "outputs": []
    },
    {
      "cell_type": "code",
      "metadata": {
        "id": "MjlfF9QYFtuE",
        "outputId": "40d58bd1-0189-494f-dfff-cadc97f16312"
      },
      "source": [
        "df.shape"
      ],
      "execution_count": null,
      "outputs": [
        {
          "output_type": "execute_result",
          "data": {
            "text/plain": [
              "(266, 104)"
            ]
          },
          "metadata": {
            "tags": []
          },
          "execution_count": 3
        }
      ]
    },
    {
      "cell_type": "code",
      "metadata": {
        "id": "5hOkkK4PFtuG",
        "outputId": "6b28a6e1-c167-4708-eae3-b3953e4e89c7"
      },
      "source": [
        "df.head(10)"
      ],
      "execution_count": null,
      "outputs": [
        {
          "output_type": "execute_result",
          "data": {
            "text/html": [
              "<div>\n",
              "<style scoped>\n",
              "    .dataframe tbody tr th:only-of-type {\n",
              "        vertical-align: middle;\n",
              "    }\n",
              "\n",
              "    .dataframe tbody tr th {\n",
              "        vertical-align: top;\n",
              "    }\n",
              "\n",
              "    .dataframe thead th {\n",
              "        text-align: right;\n",
              "    }\n",
              "</style>\n",
              "<table border=\"1\" class=\"dataframe\">\n",
              "  <thead>\n",
              "    <tr style=\"text-align: right;\">\n",
              "      <th></th>\n",
              "      <th>Province/State</th>\n",
              "      <th>Country/Region</th>\n",
              "      <th>Lat</th>\n",
              "      <th>Long</th>\n",
              "      <th>1/22/20</th>\n",
              "      <th>1/23/20</th>\n",
              "      <th>1/24/20</th>\n",
              "      <th>1/25/20</th>\n",
              "      <th>1/26/20</th>\n",
              "      <th>1/27/20</th>\n",
              "      <th>...</th>\n",
              "      <th>4/21/20</th>\n",
              "      <th>4/22/20</th>\n",
              "      <th>4/23/20</th>\n",
              "      <th>4/24/20</th>\n",
              "      <th>4/25/20</th>\n",
              "      <th>4/26/20</th>\n",
              "      <th>4/27/20</th>\n",
              "      <th>4/28/20</th>\n",
              "      <th>4/29/20</th>\n",
              "      <th>4/30/20</th>\n",
              "    </tr>\n",
              "  </thead>\n",
              "  <tbody>\n",
              "    <tr>\n",
              "      <th>0</th>\n",
              "      <td>NaN</td>\n",
              "      <td>Afghanistan</td>\n",
              "      <td>33.0000</td>\n",
              "      <td>65.0000</td>\n",
              "      <td>0</td>\n",
              "      <td>0</td>\n",
              "      <td>0</td>\n",
              "      <td>0</td>\n",
              "      <td>0</td>\n",
              "      <td>0</td>\n",
              "      <td>...</td>\n",
              "      <td>1092</td>\n",
              "      <td>1176</td>\n",
              "      <td>1279</td>\n",
              "      <td>1351</td>\n",
              "      <td>1463</td>\n",
              "      <td>1531</td>\n",
              "      <td>1703</td>\n",
              "      <td>1828</td>\n",
              "      <td>1939</td>\n",
              "      <td>2171</td>\n",
              "    </tr>\n",
              "    <tr>\n",
              "      <th>1</th>\n",
              "      <td>NaN</td>\n",
              "      <td>Albania</td>\n",
              "      <td>41.1533</td>\n",
              "      <td>20.1683</td>\n",
              "      <td>0</td>\n",
              "      <td>0</td>\n",
              "      <td>0</td>\n",
              "      <td>0</td>\n",
              "      <td>0</td>\n",
              "      <td>0</td>\n",
              "      <td>...</td>\n",
              "      <td>609</td>\n",
              "      <td>634</td>\n",
              "      <td>663</td>\n",
              "      <td>678</td>\n",
              "      <td>712</td>\n",
              "      <td>726</td>\n",
              "      <td>736</td>\n",
              "      <td>750</td>\n",
              "      <td>766</td>\n",
              "      <td>773</td>\n",
              "    </tr>\n",
              "    <tr>\n",
              "      <th>2</th>\n",
              "      <td>NaN</td>\n",
              "      <td>Algeria</td>\n",
              "      <td>28.0339</td>\n",
              "      <td>1.6596</td>\n",
              "      <td>0</td>\n",
              "      <td>0</td>\n",
              "      <td>0</td>\n",
              "      <td>0</td>\n",
              "      <td>0</td>\n",
              "      <td>0</td>\n",
              "      <td>...</td>\n",
              "      <td>2811</td>\n",
              "      <td>2910</td>\n",
              "      <td>3007</td>\n",
              "      <td>3127</td>\n",
              "      <td>3256</td>\n",
              "      <td>3382</td>\n",
              "      <td>3517</td>\n",
              "      <td>3649</td>\n",
              "      <td>3848</td>\n",
              "      <td>4006</td>\n",
              "    </tr>\n",
              "    <tr>\n",
              "      <th>3</th>\n",
              "      <td>NaN</td>\n",
              "      <td>Andorra</td>\n",
              "      <td>42.5063</td>\n",
              "      <td>1.5218</td>\n",
              "      <td>0</td>\n",
              "      <td>0</td>\n",
              "      <td>0</td>\n",
              "      <td>0</td>\n",
              "      <td>0</td>\n",
              "      <td>0</td>\n",
              "      <td>...</td>\n",
              "      <td>717</td>\n",
              "      <td>723</td>\n",
              "      <td>723</td>\n",
              "      <td>731</td>\n",
              "      <td>738</td>\n",
              "      <td>738</td>\n",
              "      <td>743</td>\n",
              "      <td>743</td>\n",
              "      <td>743</td>\n",
              "      <td>745</td>\n",
              "    </tr>\n",
              "    <tr>\n",
              "      <th>4</th>\n",
              "      <td>NaN</td>\n",
              "      <td>Angola</td>\n",
              "      <td>-11.2027</td>\n",
              "      <td>17.8739</td>\n",
              "      <td>0</td>\n",
              "      <td>0</td>\n",
              "      <td>0</td>\n",
              "      <td>0</td>\n",
              "      <td>0</td>\n",
              "      <td>0</td>\n",
              "      <td>...</td>\n",
              "      <td>24</td>\n",
              "      <td>25</td>\n",
              "      <td>25</td>\n",
              "      <td>25</td>\n",
              "      <td>25</td>\n",
              "      <td>26</td>\n",
              "      <td>27</td>\n",
              "      <td>27</td>\n",
              "      <td>27</td>\n",
              "      <td>27</td>\n",
              "    </tr>\n",
              "    <tr>\n",
              "      <th>5</th>\n",
              "      <td>NaN</td>\n",
              "      <td>Antigua and Barbuda</td>\n",
              "      <td>17.0608</td>\n",
              "      <td>-61.7964</td>\n",
              "      <td>0</td>\n",
              "      <td>0</td>\n",
              "      <td>0</td>\n",
              "      <td>0</td>\n",
              "      <td>0</td>\n",
              "      <td>0</td>\n",
              "      <td>...</td>\n",
              "      <td>23</td>\n",
              "      <td>24</td>\n",
              "      <td>24</td>\n",
              "      <td>24</td>\n",
              "      <td>24</td>\n",
              "      <td>24</td>\n",
              "      <td>24</td>\n",
              "      <td>24</td>\n",
              "      <td>24</td>\n",
              "      <td>24</td>\n",
              "    </tr>\n",
              "    <tr>\n",
              "      <th>6</th>\n",
              "      <td>NaN</td>\n",
              "      <td>Argentina</td>\n",
              "      <td>-38.4161</td>\n",
              "      <td>-63.6167</td>\n",
              "      <td>0</td>\n",
              "      <td>0</td>\n",
              "      <td>0</td>\n",
              "      <td>0</td>\n",
              "      <td>0</td>\n",
              "      <td>0</td>\n",
              "      <td>...</td>\n",
              "      <td>3031</td>\n",
              "      <td>3144</td>\n",
              "      <td>3435</td>\n",
              "      <td>3607</td>\n",
              "      <td>3780</td>\n",
              "      <td>3892</td>\n",
              "      <td>4003</td>\n",
              "      <td>4127</td>\n",
              "      <td>4285</td>\n",
              "      <td>4428</td>\n",
              "    </tr>\n",
              "    <tr>\n",
              "      <th>7</th>\n",
              "      <td>NaN</td>\n",
              "      <td>Armenia</td>\n",
              "      <td>40.0691</td>\n",
              "      <td>45.0382</td>\n",
              "      <td>0</td>\n",
              "      <td>0</td>\n",
              "      <td>0</td>\n",
              "      <td>0</td>\n",
              "      <td>0</td>\n",
              "      <td>0</td>\n",
              "      <td>...</td>\n",
              "      <td>1401</td>\n",
              "      <td>1473</td>\n",
              "      <td>1523</td>\n",
              "      <td>1596</td>\n",
              "      <td>1677</td>\n",
              "      <td>1746</td>\n",
              "      <td>1808</td>\n",
              "      <td>1867</td>\n",
              "      <td>1932</td>\n",
              "      <td>2066</td>\n",
              "    </tr>\n",
              "    <tr>\n",
              "      <th>8</th>\n",
              "      <td>Australian Capital Territory</td>\n",
              "      <td>Australia</td>\n",
              "      <td>-35.4735</td>\n",
              "      <td>149.0124</td>\n",
              "      <td>0</td>\n",
              "      <td>0</td>\n",
              "      <td>0</td>\n",
              "      <td>0</td>\n",
              "      <td>0</td>\n",
              "      <td>0</td>\n",
              "      <td>...</td>\n",
              "      <td>104</td>\n",
              "      <td>104</td>\n",
              "      <td>104</td>\n",
              "      <td>105</td>\n",
              "      <td>106</td>\n",
              "      <td>106</td>\n",
              "      <td>106</td>\n",
              "      <td>106</td>\n",
              "      <td>106</td>\n",
              "      <td>106</td>\n",
              "    </tr>\n",
              "    <tr>\n",
              "      <th>9</th>\n",
              "      <td>New South Wales</td>\n",
              "      <td>Australia</td>\n",
              "      <td>-33.8688</td>\n",
              "      <td>151.2093</td>\n",
              "      <td>0</td>\n",
              "      <td>0</td>\n",
              "      <td>0</td>\n",
              "      <td>0</td>\n",
              "      <td>3</td>\n",
              "      <td>4</td>\n",
              "      <td>...</td>\n",
              "      <td>2969</td>\n",
              "      <td>2971</td>\n",
              "      <td>2976</td>\n",
              "      <td>2982</td>\n",
              "      <td>2994</td>\n",
              "      <td>3002</td>\n",
              "      <td>3004</td>\n",
              "      <td>3016</td>\n",
              "      <td>3016</td>\n",
              "      <td>3025</td>\n",
              "    </tr>\n",
              "  </tbody>\n",
              "</table>\n",
              "<p>10 rows × 104 columns</p>\n",
              "</div>"
            ],
            "text/plain": [
              "                 Province/State       Country/Region      Lat      Long  \\\n",
              "0                           NaN          Afghanistan  33.0000   65.0000   \n",
              "1                           NaN              Albania  41.1533   20.1683   \n",
              "2                           NaN              Algeria  28.0339    1.6596   \n",
              "3                           NaN              Andorra  42.5063    1.5218   \n",
              "4                           NaN               Angola -11.2027   17.8739   \n",
              "5                           NaN  Antigua and Barbuda  17.0608  -61.7964   \n",
              "6                           NaN            Argentina -38.4161  -63.6167   \n",
              "7                           NaN              Armenia  40.0691   45.0382   \n",
              "8  Australian Capital Territory            Australia -35.4735  149.0124   \n",
              "9               New South Wales            Australia -33.8688  151.2093   \n",
              "\n",
              "   1/22/20  1/23/20  1/24/20  1/25/20  1/26/20  1/27/20  ...  4/21/20  \\\n",
              "0        0        0        0        0        0        0  ...     1092   \n",
              "1        0        0        0        0        0        0  ...      609   \n",
              "2        0        0        0        0        0        0  ...     2811   \n",
              "3        0        0        0        0        0        0  ...      717   \n",
              "4        0        0        0        0        0        0  ...       24   \n",
              "5        0        0        0        0        0        0  ...       23   \n",
              "6        0        0        0        0        0        0  ...     3031   \n",
              "7        0        0        0        0        0        0  ...     1401   \n",
              "8        0        0        0        0        0        0  ...      104   \n",
              "9        0        0        0        0        3        4  ...     2969   \n",
              "\n",
              "   4/22/20  4/23/20  4/24/20  4/25/20  4/26/20  4/27/20  4/28/20  4/29/20  \\\n",
              "0     1176     1279     1351     1463     1531     1703     1828     1939   \n",
              "1      634      663      678      712      726      736      750      766   \n",
              "2     2910     3007     3127     3256     3382     3517     3649     3848   \n",
              "3      723      723      731      738      738      743      743      743   \n",
              "4       25       25       25       25       26       27       27       27   \n",
              "5       24       24       24       24       24       24       24       24   \n",
              "6     3144     3435     3607     3780     3892     4003     4127     4285   \n",
              "7     1473     1523     1596     1677     1746     1808     1867     1932   \n",
              "8      104      104      105      106      106      106      106      106   \n",
              "9     2971     2976     2982     2994     3002     3004     3016     3016   \n",
              "\n",
              "   4/30/20  \n",
              "0     2171  \n",
              "1      773  \n",
              "2     4006  \n",
              "3      745  \n",
              "4       27  \n",
              "5       24  \n",
              "6     4428  \n",
              "7     2066  \n",
              "8      106  \n",
              "9     3025  \n",
              "\n",
              "[10 rows x 104 columns]"
            ]
          },
          "metadata": {
            "tags": []
          },
          "execution_count": 4
        }
      ]
    },
    {
      "cell_type": "code",
      "metadata": {
        "id": "cr47YSq1FtuH",
        "outputId": "26f6c750-dc3e-48a8-adec-c0180ae3e285"
      },
      "source": [
        "df=df.drop(['Lat','Long'],axis=1) # Deleting Useless columns\n",
        "df.head(10)"
      ],
      "execution_count": null,
      "outputs": [
        {
          "output_type": "execute_result",
          "data": {
            "text/html": [
              "<div>\n",
              "<style scoped>\n",
              "    .dataframe tbody tr th:only-of-type {\n",
              "        vertical-align: middle;\n",
              "    }\n",
              "\n",
              "    .dataframe tbody tr th {\n",
              "        vertical-align: top;\n",
              "    }\n",
              "\n",
              "    .dataframe thead th {\n",
              "        text-align: right;\n",
              "    }\n",
              "</style>\n",
              "<table border=\"1\" class=\"dataframe\">\n",
              "  <thead>\n",
              "    <tr style=\"text-align: right;\">\n",
              "      <th></th>\n",
              "      <th>Province/State</th>\n",
              "      <th>Country/Region</th>\n",
              "      <th>1/22/20</th>\n",
              "      <th>1/23/20</th>\n",
              "      <th>1/24/20</th>\n",
              "      <th>1/25/20</th>\n",
              "      <th>1/26/20</th>\n",
              "      <th>1/27/20</th>\n",
              "      <th>1/28/20</th>\n",
              "      <th>1/29/20</th>\n",
              "      <th>...</th>\n",
              "      <th>4/21/20</th>\n",
              "      <th>4/22/20</th>\n",
              "      <th>4/23/20</th>\n",
              "      <th>4/24/20</th>\n",
              "      <th>4/25/20</th>\n",
              "      <th>4/26/20</th>\n",
              "      <th>4/27/20</th>\n",
              "      <th>4/28/20</th>\n",
              "      <th>4/29/20</th>\n",
              "      <th>4/30/20</th>\n",
              "    </tr>\n",
              "  </thead>\n",
              "  <tbody>\n",
              "    <tr>\n",
              "      <th>0</th>\n",
              "      <td>NaN</td>\n",
              "      <td>Afghanistan</td>\n",
              "      <td>0</td>\n",
              "      <td>0</td>\n",
              "      <td>0</td>\n",
              "      <td>0</td>\n",
              "      <td>0</td>\n",
              "      <td>0</td>\n",
              "      <td>0</td>\n",
              "      <td>0</td>\n",
              "      <td>...</td>\n",
              "      <td>1092</td>\n",
              "      <td>1176</td>\n",
              "      <td>1279</td>\n",
              "      <td>1351</td>\n",
              "      <td>1463</td>\n",
              "      <td>1531</td>\n",
              "      <td>1703</td>\n",
              "      <td>1828</td>\n",
              "      <td>1939</td>\n",
              "      <td>2171</td>\n",
              "    </tr>\n",
              "    <tr>\n",
              "      <th>1</th>\n",
              "      <td>NaN</td>\n",
              "      <td>Albania</td>\n",
              "      <td>0</td>\n",
              "      <td>0</td>\n",
              "      <td>0</td>\n",
              "      <td>0</td>\n",
              "      <td>0</td>\n",
              "      <td>0</td>\n",
              "      <td>0</td>\n",
              "      <td>0</td>\n",
              "      <td>...</td>\n",
              "      <td>609</td>\n",
              "      <td>634</td>\n",
              "      <td>663</td>\n",
              "      <td>678</td>\n",
              "      <td>712</td>\n",
              "      <td>726</td>\n",
              "      <td>736</td>\n",
              "      <td>750</td>\n",
              "      <td>766</td>\n",
              "      <td>773</td>\n",
              "    </tr>\n",
              "    <tr>\n",
              "      <th>2</th>\n",
              "      <td>NaN</td>\n",
              "      <td>Algeria</td>\n",
              "      <td>0</td>\n",
              "      <td>0</td>\n",
              "      <td>0</td>\n",
              "      <td>0</td>\n",
              "      <td>0</td>\n",
              "      <td>0</td>\n",
              "      <td>0</td>\n",
              "      <td>0</td>\n",
              "      <td>...</td>\n",
              "      <td>2811</td>\n",
              "      <td>2910</td>\n",
              "      <td>3007</td>\n",
              "      <td>3127</td>\n",
              "      <td>3256</td>\n",
              "      <td>3382</td>\n",
              "      <td>3517</td>\n",
              "      <td>3649</td>\n",
              "      <td>3848</td>\n",
              "      <td>4006</td>\n",
              "    </tr>\n",
              "    <tr>\n",
              "      <th>3</th>\n",
              "      <td>NaN</td>\n",
              "      <td>Andorra</td>\n",
              "      <td>0</td>\n",
              "      <td>0</td>\n",
              "      <td>0</td>\n",
              "      <td>0</td>\n",
              "      <td>0</td>\n",
              "      <td>0</td>\n",
              "      <td>0</td>\n",
              "      <td>0</td>\n",
              "      <td>...</td>\n",
              "      <td>717</td>\n",
              "      <td>723</td>\n",
              "      <td>723</td>\n",
              "      <td>731</td>\n",
              "      <td>738</td>\n",
              "      <td>738</td>\n",
              "      <td>743</td>\n",
              "      <td>743</td>\n",
              "      <td>743</td>\n",
              "      <td>745</td>\n",
              "    </tr>\n",
              "    <tr>\n",
              "      <th>4</th>\n",
              "      <td>NaN</td>\n",
              "      <td>Angola</td>\n",
              "      <td>0</td>\n",
              "      <td>0</td>\n",
              "      <td>0</td>\n",
              "      <td>0</td>\n",
              "      <td>0</td>\n",
              "      <td>0</td>\n",
              "      <td>0</td>\n",
              "      <td>0</td>\n",
              "      <td>...</td>\n",
              "      <td>24</td>\n",
              "      <td>25</td>\n",
              "      <td>25</td>\n",
              "      <td>25</td>\n",
              "      <td>25</td>\n",
              "      <td>26</td>\n",
              "      <td>27</td>\n",
              "      <td>27</td>\n",
              "      <td>27</td>\n",
              "      <td>27</td>\n",
              "    </tr>\n",
              "    <tr>\n",
              "      <th>5</th>\n",
              "      <td>NaN</td>\n",
              "      <td>Antigua and Barbuda</td>\n",
              "      <td>0</td>\n",
              "      <td>0</td>\n",
              "      <td>0</td>\n",
              "      <td>0</td>\n",
              "      <td>0</td>\n",
              "      <td>0</td>\n",
              "      <td>0</td>\n",
              "      <td>0</td>\n",
              "      <td>...</td>\n",
              "      <td>23</td>\n",
              "      <td>24</td>\n",
              "      <td>24</td>\n",
              "      <td>24</td>\n",
              "      <td>24</td>\n",
              "      <td>24</td>\n",
              "      <td>24</td>\n",
              "      <td>24</td>\n",
              "      <td>24</td>\n",
              "      <td>24</td>\n",
              "    </tr>\n",
              "    <tr>\n",
              "      <th>6</th>\n",
              "      <td>NaN</td>\n",
              "      <td>Argentina</td>\n",
              "      <td>0</td>\n",
              "      <td>0</td>\n",
              "      <td>0</td>\n",
              "      <td>0</td>\n",
              "      <td>0</td>\n",
              "      <td>0</td>\n",
              "      <td>0</td>\n",
              "      <td>0</td>\n",
              "      <td>...</td>\n",
              "      <td>3031</td>\n",
              "      <td>3144</td>\n",
              "      <td>3435</td>\n",
              "      <td>3607</td>\n",
              "      <td>3780</td>\n",
              "      <td>3892</td>\n",
              "      <td>4003</td>\n",
              "      <td>4127</td>\n",
              "      <td>4285</td>\n",
              "      <td>4428</td>\n",
              "    </tr>\n",
              "    <tr>\n",
              "      <th>7</th>\n",
              "      <td>NaN</td>\n",
              "      <td>Armenia</td>\n",
              "      <td>0</td>\n",
              "      <td>0</td>\n",
              "      <td>0</td>\n",
              "      <td>0</td>\n",
              "      <td>0</td>\n",
              "      <td>0</td>\n",
              "      <td>0</td>\n",
              "      <td>0</td>\n",
              "      <td>...</td>\n",
              "      <td>1401</td>\n",
              "      <td>1473</td>\n",
              "      <td>1523</td>\n",
              "      <td>1596</td>\n",
              "      <td>1677</td>\n",
              "      <td>1746</td>\n",
              "      <td>1808</td>\n",
              "      <td>1867</td>\n",
              "      <td>1932</td>\n",
              "      <td>2066</td>\n",
              "    </tr>\n",
              "    <tr>\n",
              "      <th>8</th>\n",
              "      <td>Australian Capital Territory</td>\n",
              "      <td>Australia</td>\n",
              "      <td>0</td>\n",
              "      <td>0</td>\n",
              "      <td>0</td>\n",
              "      <td>0</td>\n",
              "      <td>0</td>\n",
              "      <td>0</td>\n",
              "      <td>0</td>\n",
              "      <td>0</td>\n",
              "      <td>...</td>\n",
              "      <td>104</td>\n",
              "      <td>104</td>\n",
              "      <td>104</td>\n",
              "      <td>105</td>\n",
              "      <td>106</td>\n",
              "      <td>106</td>\n",
              "      <td>106</td>\n",
              "      <td>106</td>\n",
              "      <td>106</td>\n",
              "      <td>106</td>\n",
              "    </tr>\n",
              "    <tr>\n",
              "      <th>9</th>\n",
              "      <td>New South Wales</td>\n",
              "      <td>Australia</td>\n",
              "      <td>0</td>\n",
              "      <td>0</td>\n",
              "      <td>0</td>\n",
              "      <td>0</td>\n",
              "      <td>3</td>\n",
              "      <td>4</td>\n",
              "      <td>4</td>\n",
              "      <td>4</td>\n",
              "      <td>...</td>\n",
              "      <td>2969</td>\n",
              "      <td>2971</td>\n",
              "      <td>2976</td>\n",
              "      <td>2982</td>\n",
              "      <td>2994</td>\n",
              "      <td>3002</td>\n",
              "      <td>3004</td>\n",
              "      <td>3016</td>\n",
              "      <td>3016</td>\n",
              "      <td>3025</td>\n",
              "    </tr>\n",
              "  </tbody>\n",
              "</table>\n",
              "<p>10 rows × 102 columns</p>\n",
              "</div>"
            ],
            "text/plain": [
              "                 Province/State       Country/Region  1/22/20  1/23/20  \\\n",
              "0                           NaN          Afghanistan        0        0   \n",
              "1                           NaN              Albania        0        0   \n",
              "2                           NaN              Algeria        0        0   \n",
              "3                           NaN              Andorra        0        0   \n",
              "4                           NaN               Angola        0        0   \n",
              "5                           NaN  Antigua and Barbuda        0        0   \n",
              "6                           NaN            Argentina        0        0   \n",
              "7                           NaN              Armenia        0        0   \n",
              "8  Australian Capital Territory            Australia        0        0   \n",
              "9               New South Wales            Australia        0        0   \n",
              "\n",
              "   1/24/20  1/25/20  1/26/20  1/27/20  1/28/20  1/29/20  ...  4/21/20  \\\n",
              "0        0        0        0        0        0        0  ...     1092   \n",
              "1        0        0        0        0        0        0  ...      609   \n",
              "2        0        0        0        0        0        0  ...     2811   \n",
              "3        0        0        0        0        0        0  ...      717   \n",
              "4        0        0        0        0        0        0  ...       24   \n",
              "5        0        0        0        0        0        0  ...       23   \n",
              "6        0        0        0        0        0        0  ...     3031   \n",
              "7        0        0        0        0        0        0  ...     1401   \n",
              "8        0        0        0        0        0        0  ...      104   \n",
              "9        0        0        3        4        4        4  ...     2969   \n",
              "\n",
              "   4/22/20  4/23/20  4/24/20  4/25/20  4/26/20  4/27/20  4/28/20  4/29/20  \\\n",
              "0     1176     1279     1351     1463     1531     1703     1828     1939   \n",
              "1      634      663      678      712      726      736      750      766   \n",
              "2     2910     3007     3127     3256     3382     3517     3649     3848   \n",
              "3      723      723      731      738      738      743      743      743   \n",
              "4       25       25       25       25       26       27       27       27   \n",
              "5       24       24       24       24       24       24       24       24   \n",
              "6     3144     3435     3607     3780     3892     4003     4127     4285   \n",
              "7     1473     1523     1596     1677     1746     1808     1867     1932   \n",
              "8      104      104      105      106      106      106      106      106   \n",
              "9     2971     2976     2982     2994     3002     3004     3016     3016   \n",
              "\n",
              "   4/30/20  \n",
              "0     2171  \n",
              "1      773  \n",
              "2     4006  \n",
              "3      745  \n",
              "4       27  \n",
              "5       24  \n",
              "6     4428  \n",
              "7     2066  \n",
              "8      106  \n",
              "9     3025  \n",
              "\n",
              "[10 rows x 102 columns]"
            ]
          },
          "metadata": {
            "tags": []
          },
          "execution_count": 5
        }
      ]
    },
    {
      "cell_type": "markdown",
      "metadata": {
        "id": "luuO-hIMFtuI"
      },
      "source": [
        "### Aggregating the rows by the country"
      ]
    },
    {
      "cell_type": "code",
      "metadata": {
        "id": "xh4q7SE8FtuJ"
      },
      "source": [
        "corona_data_aggregate = df.groupby('Country/Region').sum()"
      ],
      "execution_count": null,
      "outputs": []
    },
    {
      "cell_type": "code",
      "metadata": {
        "id": "I6jQJ2hUFtuK",
        "outputId": "e788e5ec-c5a0-4b04-8401-1698badfc52c"
      },
      "source": [
        "corona_data_aggregate.tail(20)"
      ],
      "execution_count": null,
      "outputs": [
        {
          "output_type": "execute_result",
          "data": {
            "text/html": [
              "<div>\n",
              "<style scoped>\n",
              "    .dataframe tbody tr th:only-of-type {\n",
              "        vertical-align: middle;\n",
              "    }\n",
              "\n",
              "    .dataframe tbody tr th {\n",
              "        vertical-align: top;\n",
              "    }\n",
              "\n",
              "    .dataframe thead th {\n",
              "        text-align: right;\n",
              "    }\n",
              "</style>\n",
              "<table border=\"1\" class=\"dataframe\">\n",
              "  <thead>\n",
              "    <tr style=\"text-align: right;\">\n",
              "      <th></th>\n",
              "      <th>1/22/20</th>\n",
              "      <th>1/23/20</th>\n",
              "      <th>1/24/20</th>\n",
              "      <th>1/25/20</th>\n",
              "      <th>1/26/20</th>\n",
              "      <th>1/27/20</th>\n",
              "      <th>1/28/20</th>\n",
              "      <th>1/29/20</th>\n",
              "      <th>1/30/20</th>\n",
              "      <th>1/31/20</th>\n",
              "      <th>...</th>\n",
              "      <th>4/21/20</th>\n",
              "      <th>4/22/20</th>\n",
              "      <th>4/23/20</th>\n",
              "      <th>4/24/20</th>\n",
              "      <th>4/25/20</th>\n",
              "      <th>4/26/20</th>\n",
              "      <th>4/27/20</th>\n",
              "      <th>4/28/20</th>\n",
              "      <th>4/29/20</th>\n",
              "      <th>4/30/20</th>\n",
              "    </tr>\n",
              "    <tr>\n",
              "      <th>Country/Region</th>\n",
              "      <th></th>\n",
              "      <th></th>\n",
              "      <th></th>\n",
              "      <th></th>\n",
              "      <th></th>\n",
              "      <th></th>\n",
              "      <th></th>\n",
              "      <th></th>\n",
              "      <th></th>\n",
              "      <th></th>\n",
              "      <th></th>\n",
              "      <th></th>\n",
              "      <th></th>\n",
              "      <th></th>\n",
              "      <th></th>\n",
              "      <th></th>\n",
              "      <th></th>\n",
              "      <th></th>\n",
              "      <th></th>\n",
              "      <th></th>\n",
              "      <th></th>\n",
              "    </tr>\n",
              "  </thead>\n",
              "  <tbody>\n",
              "    <tr>\n",
              "      <th>Thailand</th>\n",
              "      <td>2</td>\n",
              "      <td>3</td>\n",
              "      <td>5</td>\n",
              "      <td>7</td>\n",
              "      <td>8</td>\n",
              "      <td>8</td>\n",
              "      <td>14</td>\n",
              "      <td>14</td>\n",
              "      <td>14</td>\n",
              "      <td>19</td>\n",
              "      <td>...</td>\n",
              "      <td>2811</td>\n",
              "      <td>2826</td>\n",
              "      <td>2839</td>\n",
              "      <td>2907</td>\n",
              "      <td>2907</td>\n",
              "      <td>2922</td>\n",
              "      <td>2931</td>\n",
              "      <td>2938</td>\n",
              "      <td>2947</td>\n",
              "      <td>2954</td>\n",
              "    </tr>\n",
              "    <tr>\n",
              "      <th>Timor-Leste</th>\n",
              "      <td>0</td>\n",
              "      <td>0</td>\n",
              "      <td>0</td>\n",
              "      <td>0</td>\n",
              "      <td>0</td>\n",
              "      <td>0</td>\n",
              "      <td>0</td>\n",
              "      <td>0</td>\n",
              "      <td>0</td>\n",
              "      <td>0</td>\n",
              "      <td>...</td>\n",
              "      <td>23</td>\n",
              "      <td>23</td>\n",
              "      <td>23</td>\n",
              "      <td>24</td>\n",
              "      <td>24</td>\n",
              "      <td>24</td>\n",
              "      <td>24</td>\n",
              "      <td>24</td>\n",
              "      <td>24</td>\n",
              "      <td>24</td>\n",
              "    </tr>\n",
              "    <tr>\n",
              "      <th>Togo</th>\n",
              "      <td>0</td>\n",
              "      <td>0</td>\n",
              "      <td>0</td>\n",
              "      <td>0</td>\n",
              "      <td>0</td>\n",
              "      <td>0</td>\n",
              "      <td>0</td>\n",
              "      <td>0</td>\n",
              "      <td>0</td>\n",
              "      <td>0</td>\n",
              "      <td>...</td>\n",
              "      <td>86</td>\n",
              "      <td>88</td>\n",
              "      <td>88</td>\n",
              "      <td>90</td>\n",
              "      <td>96</td>\n",
              "      <td>98</td>\n",
              "      <td>98</td>\n",
              "      <td>99</td>\n",
              "      <td>109</td>\n",
              "      <td>116</td>\n",
              "    </tr>\n",
              "    <tr>\n",
              "      <th>Trinidad and Tobago</th>\n",
              "      <td>0</td>\n",
              "      <td>0</td>\n",
              "      <td>0</td>\n",
              "      <td>0</td>\n",
              "      <td>0</td>\n",
              "      <td>0</td>\n",
              "      <td>0</td>\n",
              "      <td>0</td>\n",
              "      <td>0</td>\n",
              "      <td>0</td>\n",
              "      <td>...</td>\n",
              "      <td>115</td>\n",
              "      <td>115</td>\n",
              "      <td>115</td>\n",
              "      <td>115</td>\n",
              "      <td>115</td>\n",
              "      <td>115</td>\n",
              "      <td>116</td>\n",
              "      <td>116</td>\n",
              "      <td>116</td>\n",
              "      <td>116</td>\n",
              "    </tr>\n",
              "    <tr>\n",
              "      <th>Tunisia</th>\n",
              "      <td>0</td>\n",
              "      <td>0</td>\n",
              "      <td>0</td>\n",
              "      <td>0</td>\n",
              "      <td>0</td>\n",
              "      <td>0</td>\n",
              "      <td>0</td>\n",
              "      <td>0</td>\n",
              "      <td>0</td>\n",
              "      <td>0</td>\n",
              "      <td>...</td>\n",
              "      <td>884</td>\n",
              "      <td>909</td>\n",
              "      <td>918</td>\n",
              "      <td>922</td>\n",
              "      <td>939</td>\n",
              "      <td>949</td>\n",
              "      <td>967</td>\n",
              "      <td>975</td>\n",
              "      <td>980</td>\n",
              "      <td>994</td>\n",
              "    </tr>\n",
              "    <tr>\n",
              "      <th>Turkey</th>\n",
              "      <td>0</td>\n",
              "      <td>0</td>\n",
              "      <td>0</td>\n",
              "      <td>0</td>\n",
              "      <td>0</td>\n",
              "      <td>0</td>\n",
              "      <td>0</td>\n",
              "      <td>0</td>\n",
              "      <td>0</td>\n",
              "      <td>0</td>\n",
              "      <td>...</td>\n",
              "      <td>95591</td>\n",
              "      <td>98674</td>\n",
              "      <td>101790</td>\n",
              "      <td>104912</td>\n",
              "      <td>107773</td>\n",
              "      <td>110130</td>\n",
              "      <td>112261</td>\n",
              "      <td>114653</td>\n",
              "      <td>117589</td>\n",
              "      <td>120204</td>\n",
              "    </tr>\n",
              "    <tr>\n",
              "      <th>US</th>\n",
              "      <td>1</td>\n",
              "      <td>1</td>\n",
              "      <td>2</td>\n",
              "      <td>2</td>\n",
              "      <td>5</td>\n",
              "      <td>5</td>\n",
              "      <td>5</td>\n",
              "      <td>5</td>\n",
              "      <td>5</td>\n",
              "      <td>7</td>\n",
              "      <td>...</td>\n",
              "      <td>811865</td>\n",
              "      <td>840351</td>\n",
              "      <td>869170</td>\n",
              "      <td>905358</td>\n",
              "      <td>938154</td>\n",
              "      <td>965785</td>\n",
              "      <td>988197</td>\n",
              "      <td>1012582</td>\n",
              "      <td>1039909</td>\n",
              "      <td>1069424</td>\n",
              "    </tr>\n",
              "    <tr>\n",
              "      <th>Uganda</th>\n",
              "      <td>0</td>\n",
              "      <td>0</td>\n",
              "      <td>0</td>\n",
              "      <td>0</td>\n",
              "      <td>0</td>\n",
              "      <td>0</td>\n",
              "      <td>0</td>\n",
              "      <td>0</td>\n",
              "      <td>0</td>\n",
              "      <td>0</td>\n",
              "      <td>...</td>\n",
              "      <td>61</td>\n",
              "      <td>63</td>\n",
              "      <td>74</td>\n",
              "      <td>75</td>\n",
              "      <td>75</td>\n",
              "      <td>79</td>\n",
              "      <td>79</td>\n",
              "      <td>79</td>\n",
              "      <td>81</td>\n",
              "      <td>83</td>\n",
              "    </tr>\n",
              "    <tr>\n",
              "      <th>Ukraine</th>\n",
              "      <td>0</td>\n",
              "      <td>0</td>\n",
              "      <td>0</td>\n",
              "      <td>0</td>\n",
              "      <td>0</td>\n",
              "      <td>0</td>\n",
              "      <td>0</td>\n",
              "      <td>0</td>\n",
              "      <td>0</td>\n",
              "      <td>0</td>\n",
              "      <td>...</td>\n",
              "      <td>6125</td>\n",
              "      <td>6592</td>\n",
              "      <td>7170</td>\n",
              "      <td>7647</td>\n",
              "      <td>8125</td>\n",
              "      <td>8617</td>\n",
              "      <td>9009</td>\n",
              "      <td>9410</td>\n",
              "      <td>9866</td>\n",
              "      <td>10406</td>\n",
              "    </tr>\n",
              "    <tr>\n",
              "      <th>United Arab Emirates</th>\n",
              "      <td>0</td>\n",
              "      <td>0</td>\n",
              "      <td>0</td>\n",
              "      <td>0</td>\n",
              "      <td>0</td>\n",
              "      <td>0</td>\n",
              "      <td>0</td>\n",
              "      <td>4</td>\n",
              "      <td>4</td>\n",
              "      <td>4</td>\n",
              "      <td>...</td>\n",
              "      <td>7755</td>\n",
              "      <td>8238</td>\n",
              "      <td>8756</td>\n",
              "      <td>9281</td>\n",
              "      <td>9813</td>\n",
              "      <td>10349</td>\n",
              "      <td>10839</td>\n",
              "      <td>11380</td>\n",
              "      <td>11929</td>\n",
              "      <td>12481</td>\n",
              "    </tr>\n",
              "    <tr>\n",
              "      <th>United Kingdom</th>\n",
              "      <td>0</td>\n",
              "      <td>0</td>\n",
              "      <td>0</td>\n",
              "      <td>0</td>\n",
              "      <td>0</td>\n",
              "      <td>0</td>\n",
              "      <td>0</td>\n",
              "      <td>0</td>\n",
              "      <td>0</td>\n",
              "      <td>2</td>\n",
              "      <td>...</td>\n",
              "      <td>130172</td>\n",
              "      <td>134638</td>\n",
              "      <td>139246</td>\n",
              "      <td>144640</td>\n",
              "      <td>149569</td>\n",
              "      <td>154037</td>\n",
              "      <td>158348</td>\n",
              "      <td>162350</td>\n",
              "      <td>166441</td>\n",
              "      <td>172481</td>\n",
              "    </tr>\n",
              "    <tr>\n",
              "      <th>Uruguay</th>\n",
              "      <td>0</td>\n",
              "      <td>0</td>\n",
              "      <td>0</td>\n",
              "      <td>0</td>\n",
              "      <td>0</td>\n",
              "      <td>0</td>\n",
              "      <td>0</td>\n",
              "      <td>0</td>\n",
              "      <td>0</td>\n",
              "      <td>0</td>\n",
              "      <td>...</td>\n",
              "      <td>535</td>\n",
              "      <td>543</td>\n",
              "      <td>557</td>\n",
              "      <td>563</td>\n",
              "      <td>596</td>\n",
              "      <td>606</td>\n",
              "      <td>620</td>\n",
              "      <td>625</td>\n",
              "      <td>630</td>\n",
              "      <td>643</td>\n",
              "    </tr>\n",
              "    <tr>\n",
              "      <th>Uzbekistan</th>\n",
              "      <td>0</td>\n",
              "      <td>0</td>\n",
              "      <td>0</td>\n",
              "      <td>0</td>\n",
              "      <td>0</td>\n",
              "      <td>0</td>\n",
              "      <td>0</td>\n",
              "      <td>0</td>\n",
              "      <td>0</td>\n",
              "      <td>0</td>\n",
              "      <td>...</td>\n",
              "      <td>1678</td>\n",
              "      <td>1716</td>\n",
              "      <td>1758</td>\n",
              "      <td>1804</td>\n",
              "      <td>1862</td>\n",
              "      <td>1869</td>\n",
              "      <td>1904</td>\n",
              "      <td>1939</td>\n",
              "      <td>2002</td>\n",
              "      <td>2039</td>\n",
              "    </tr>\n",
              "    <tr>\n",
              "      <th>Venezuela</th>\n",
              "      <td>0</td>\n",
              "      <td>0</td>\n",
              "      <td>0</td>\n",
              "      <td>0</td>\n",
              "      <td>0</td>\n",
              "      <td>0</td>\n",
              "      <td>0</td>\n",
              "      <td>0</td>\n",
              "      <td>0</td>\n",
              "      <td>0</td>\n",
              "      <td>...</td>\n",
              "      <td>285</td>\n",
              "      <td>288</td>\n",
              "      <td>311</td>\n",
              "      <td>318</td>\n",
              "      <td>323</td>\n",
              "      <td>325</td>\n",
              "      <td>329</td>\n",
              "      <td>329</td>\n",
              "      <td>331</td>\n",
              "      <td>333</td>\n",
              "    </tr>\n",
              "    <tr>\n",
              "      <th>Vietnam</th>\n",
              "      <td>0</td>\n",
              "      <td>2</td>\n",
              "      <td>2</td>\n",
              "      <td>2</td>\n",
              "      <td>2</td>\n",
              "      <td>2</td>\n",
              "      <td>2</td>\n",
              "      <td>2</td>\n",
              "      <td>2</td>\n",
              "      <td>2</td>\n",
              "      <td>...</td>\n",
              "      <td>268</td>\n",
              "      <td>268</td>\n",
              "      <td>268</td>\n",
              "      <td>270</td>\n",
              "      <td>270</td>\n",
              "      <td>270</td>\n",
              "      <td>270</td>\n",
              "      <td>270</td>\n",
              "      <td>270</td>\n",
              "      <td>270</td>\n",
              "    </tr>\n",
              "    <tr>\n",
              "      <th>West Bank and Gaza</th>\n",
              "      <td>0</td>\n",
              "      <td>0</td>\n",
              "      <td>0</td>\n",
              "      <td>0</td>\n",
              "      <td>0</td>\n",
              "      <td>0</td>\n",
              "      <td>0</td>\n",
              "      <td>0</td>\n",
              "      <td>0</td>\n",
              "      <td>0</td>\n",
              "      <td>...</td>\n",
              "      <td>466</td>\n",
              "      <td>474</td>\n",
              "      <td>480</td>\n",
              "      <td>484</td>\n",
              "      <td>342</td>\n",
              "      <td>342</td>\n",
              "      <td>342</td>\n",
              "      <td>343</td>\n",
              "      <td>344</td>\n",
              "      <td>344</td>\n",
              "    </tr>\n",
              "    <tr>\n",
              "      <th>Western Sahara</th>\n",
              "      <td>0</td>\n",
              "      <td>0</td>\n",
              "      <td>0</td>\n",
              "      <td>0</td>\n",
              "      <td>0</td>\n",
              "      <td>0</td>\n",
              "      <td>0</td>\n",
              "      <td>0</td>\n",
              "      <td>0</td>\n",
              "      <td>0</td>\n",
              "      <td>...</td>\n",
              "      <td>6</td>\n",
              "      <td>6</td>\n",
              "      <td>6</td>\n",
              "      <td>6</td>\n",
              "      <td>6</td>\n",
              "      <td>6</td>\n",
              "      <td>6</td>\n",
              "      <td>6</td>\n",
              "      <td>6</td>\n",
              "      <td>6</td>\n",
              "    </tr>\n",
              "    <tr>\n",
              "      <th>Yemen</th>\n",
              "      <td>0</td>\n",
              "      <td>0</td>\n",
              "      <td>0</td>\n",
              "      <td>0</td>\n",
              "      <td>0</td>\n",
              "      <td>0</td>\n",
              "      <td>0</td>\n",
              "      <td>0</td>\n",
              "      <td>0</td>\n",
              "      <td>0</td>\n",
              "      <td>...</td>\n",
              "      <td>1</td>\n",
              "      <td>1</td>\n",
              "      <td>1</td>\n",
              "      <td>1</td>\n",
              "      <td>1</td>\n",
              "      <td>1</td>\n",
              "      <td>1</td>\n",
              "      <td>1</td>\n",
              "      <td>6</td>\n",
              "      <td>6</td>\n",
              "    </tr>\n",
              "    <tr>\n",
              "      <th>Zambia</th>\n",
              "      <td>0</td>\n",
              "      <td>0</td>\n",
              "      <td>0</td>\n",
              "      <td>0</td>\n",
              "      <td>0</td>\n",
              "      <td>0</td>\n",
              "      <td>0</td>\n",
              "      <td>0</td>\n",
              "      <td>0</td>\n",
              "      <td>0</td>\n",
              "      <td>...</td>\n",
              "      <td>70</td>\n",
              "      <td>74</td>\n",
              "      <td>76</td>\n",
              "      <td>84</td>\n",
              "      <td>84</td>\n",
              "      <td>88</td>\n",
              "      <td>88</td>\n",
              "      <td>95</td>\n",
              "      <td>97</td>\n",
              "      <td>106</td>\n",
              "    </tr>\n",
              "    <tr>\n",
              "      <th>Zimbabwe</th>\n",
              "      <td>0</td>\n",
              "      <td>0</td>\n",
              "      <td>0</td>\n",
              "      <td>0</td>\n",
              "      <td>0</td>\n",
              "      <td>0</td>\n",
              "      <td>0</td>\n",
              "      <td>0</td>\n",
              "      <td>0</td>\n",
              "      <td>0</td>\n",
              "      <td>...</td>\n",
              "      <td>28</td>\n",
              "      <td>28</td>\n",
              "      <td>28</td>\n",
              "      <td>29</td>\n",
              "      <td>31</td>\n",
              "      <td>31</td>\n",
              "      <td>32</td>\n",
              "      <td>32</td>\n",
              "      <td>32</td>\n",
              "      <td>40</td>\n",
              "    </tr>\n",
              "  </tbody>\n",
              "</table>\n",
              "<p>20 rows × 100 columns</p>\n",
              "</div>"
            ],
            "text/plain": [
              "                      1/22/20  1/23/20  1/24/20  1/25/20  1/26/20  1/27/20  \\\n",
              "Country/Region                                                               \n",
              "Thailand                    2        3        5        7        8        8   \n",
              "Timor-Leste                 0        0        0        0        0        0   \n",
              "Togo                        0        0        0        0        0        0   \n",
              "Trinidad and Tobago         0        0        0        0        0        0   \n",
              "Tunisia                     0        0        0        0        0        0   \n",
              "Turkey                      0        0        0        0        0        0   \n",
              "US                          1        1        2        2        5        5   \n",
              "Uganda                      0        0        0        0        0        0   \n",
              "Ukraine                     0        0        0        0        0        0   \n",
              "United Arab Emirates        0        0        0        0        0        0   \n",
              "United Kingdom              0        0        0        0        0        0   \n",
              "Uruguay                     0        0        0        0        0        0   \n",
              "Uzbekistan                  0        0        0        0        0        0   \n",
              "Venezuela                   0        0        0        0        0        0   \n",
              "Vietnam                     0        2        2        2        2        2   \n",
              "West Bank and Gaza          0        0        0        0        0        0   \n",
              "Western Sahara              0        0        0        0        0        0   \n",
              "Yemen                       0        0        0        0        0        0   \n",
              "Zambia                      0        0        0        0        0        0   \n",
              "Zimbabwe                    0        0        0        0        0        0   \n",
              "\n",
              "                      1/28/20  1/29/20  1/30/20  1/31/20  ...  4/21/20  \\\n",
              "Country/Region                                            ...            \n",
              "Thailand                   14       14       14       19  ...     2811   \n",
              "Timor-Leste                 0        0        0        0  ...       23   \n",
              "Togo                        0        0        0        0  ...       86   \n",
              "Trinidad and Tobago         0        0        0        0  ...      115   \n",
              "Tunisia                     0        0        0        0  ...      884   \n",
              "Turkey                      0        0        0        0  ...    95591   \n",
              "US                          5        5        5        7  ...   811865   \n",
              "Uganda                      0        0        0        0  ...       61   \n",
              "Ukraine                     0        0        0        0  ...     6125   \n",
              "United Arab Emirates        0        4        4        4  ...     7755   \n",
              "United Kingdom              0        0        0        2  ...   130172   \n",
              "Uruguay                     0        0        0        0  ...      535   \n",
              "Uzbekistan                  0        0        0        0  ...     1678   \n",
              "Venezuela                   0        0        0        0  ...      285   \n",
              "Vietnam                     2        2        2        2  ...      268   \n",
              "West Bank and Gaza          0        0        0        0  ...      466   \n",
              "Western Sahara              0        0        0        0  ...        6   \n",
              "Yemen                       0        0        0        0  ...        1   \n",
              "Zambia                      0        0        0        0  ...       70   \n",
              "Zimbabwe                    0        0        0        0  ...       28   \n",
              "\n",
              "                      4/22/20  4/23/20  4/24/20  4/25/20  4/26/20  4/27/20  \\\n",
              "Country/Region                                                               \n",
              "Thailand                 2826     2839     2907     2907     2922     2931   \n",
              "Timor-Leste                23       23       24       24       24       24   \n",
              "Togo                       88       88       90       96       98       98   \n",
              "Trinidad and Tobago       115      115      115      115      115      116   \n",
              "Tunisia                   909      918      922      939      949      967   \n",
              "Turkey                  98674   101790   104912   107773   110130   112261   \n",
              "US                     840351   869170   905358   938154   965785   988197   \n",
              "Uganda                     63       74       75       75       79       79   \n",
              "Ukraine                  6592     7170     7647     8125     8617     9009   \n",
              "United Arab Emirates     8238     8756     9281     9813    10349    10839   \n",
              "United Kingdom         134638   139246   144640   149569   154037   158348   \n",
              "Uruguay                   543      557      563      596      606      620   \n",
              "Uzbekistan               1716     1758     1804     1862     1869     1904   \n",
              "Venezuela                 288      311      318      323      325      329   \n",
              "Vietnam                   268      268      270      270      270      270   \n",
              "West Bank and Gaza        474      480      484      342      342      342   \n",
              "Western Sahara              6        6        6        6        6        6   \n",
              "Yemen                       1        1        1        1        1        1   \n",
              "Zambia                     74       76       84       84       88       88   \n",
              "Zimbabwe                   28       28       29       31       31       32   \n",
              "\n",
              "                      4/28/20  4/29/20  4/30/20  \n",
              "Country/Region                                   \n",
              "Thailand                 2938     2947     2954  \n",
              "Timor-Leste                24       24       24  \n",
              "Togo                       99      109      116  \n",
              "Trinidad and Tobago       116      116      116  \n",
              "Tunisia                   975      980      994  \n",
              "Turkey                 114653   117589   120204  \n",
              "US                    1012582  1039909  1069424  \n",
              "Uganda                     79       81       83  \n",
              "Ukraine                  9410     9866    10406  \n",
              "United Arab Emirates    11380    11929    12481  \n",
              "United Kingdom         162350   166441   172481  \n",
              "Uruguay                   625      630      643  \n",
              "Uzbekistan               1939     2002     2039  \n",
              "Venezuela                 329      331      333  \n",
              "Vietnam                   270      270      270  \n",
              "West Bank and Gaza        343      344      344  \n",
              "Western Sahara              6        6        6  \n",
              "Yemen                       1        6        6  \n",
              "Zambia                     95       97      106  \n",
              "Zimbabwe                   32       32       40  \n",
              "\n",
              "[20 rows x 100 columns]"
            ]
          },
          "metadata": {
            "tags": []
          },
          "execution_count": 7
        }
      ]
    },
    {
      "cell_type": "code",
      "metadata": {
        "id": "88eTZmf4FtuL",
        "outputId": "9e9ea91d-5636-44b2-f314-fcc6833a2949"
      },
      "source": [
        "corona_data_aggregate.shape"
      ],
      "execution_count": null,
      "outputs": [
        {
          "output_type": "execute_result",
          "data": {
            "text/plain": [
              "(187, 100)"
            ]
          },
          "metadata": {
            "tags": []
          },
          "execution_count": 8
        }
      ]
    },
    {
      "cell_type": "markdown",
      "metadata": {
        "id": "6SUMo_d5FtuM"
      },
      "source": [
        "### Visualizing data related to a country"
      ]
    },
    {
      "cell_type": "code",
      "metadata": {
        "id": "95cRcd2SFtuN",
        "outputId": "d4ebed64-0fb2-4772-9b70-e4e165261dca"
      },
      "source": [
        "corona_data_aggregate.loc['China'].plot()\n",
        "corona_data_aggregate.loc['India'].plot()\n",
        "corona_data_aggregate.loc['Italy'].plot()\n",
        "corona_data_aggregate.loc['Afghanistan'].plot()\n",
        "corona_data_aggregate.loc['US'].plot()\n",
        "corona_data_aggregate.loc['United Kingdom'].plot()\n",
        "plt.legend()"
      ],
      "execution_count": null,
      "outputs": [
        {
          "output_type": "execute_result",
          "data": {
            "text/plain": [
              "<matplotlib.legend.Legend at 0x22dc6969b38>"
            ]
          },
          "metadata": {
            "tags": []
          },
          "execution_count": 9
        },
        {
          "output_type": "display_data",
          "data": {
            "image/png": "[encoded data removed]",
            "text/plain": [
              "<Figure size 432x288 with 1 Axes>"
            ]
          },
          "metadata": {
            "tags": [],
            "needs_background": "light"
          }
        }
      ]
    },
    {
      "cell_type": "markdown",
      "metadata": {
        "id": "Bkgu0OngFtuO"
      },
      "source": [
        "### Calculating a good measure \n"
      ]
    },
    {
      "cell_type": "code",
      "metadata": {
        "id": "o_JABt0JFtuP",
        "outputId": "c4b8a55e-540d-4a70-9c56-12954fa81dbf"
      },
      "source": [
        "corona_data_aggregate.loc['China'].plot()"
      ],
      "execution_count": null,
      "outputs": [
        {
          "output_type": "execute_result",
          "data": {
            "text/plain": [
              "<matplotlib.axes._subplots.AxesSubplot at 0x22dc622f630>"
            ]
          },
          "metadata": {
            "tags": []
          },
          "execution_count": 10
        },
        {
          "output_type": "display_data",
          "data": {
            "image/png": "[encoded data removed]",
            "text/plain": [
              "<Figure size 432x288 with 1 Axes>"
            ]
          },
          "metadata": {
            "tags": [],
            "needs_background": "light"
          }
        }
      ]
    },
    {
      "cell_type": "code",
      "metadata": {
        "id": "5uaoekslFtuQ",
        "outputId": "52886f96-0750-4af5-9e5a-931597487efb"
      },
      "source": [
        "corona_data_aggregate.loc['China'][:3].plot(marker='o',markersize=4)\n"
      ],
      "execution_count": null,
      "outputs": [
        {
          "output_type": "execute_result",
          "data": {
            "text/plain": [
              "<matplotlib.axes._subplots.AxesSubplot at 0x22dc6a3dba8>"
            ]
          },
          "metadata": {
            "tags": []
          },
          "execution_count": 11
        },
        {
          "output_type": "display_data",
          "data": {
            "image/png": "[encoded data removed]",
            "text/plain": [
              "<Figure size 432x288 with 1 Axes>"
            ]
          },
          "metadata": {
            "tags": [],
            "needs_background": "light"
          }
        }
      ]
    },
    {
      "cell_type": "markdown",
      "metadata": {
        "id": "Th4S-RKTFtuR"
      },
      "source": [
        "### Caculating the first derivative of the curve"
      ]
    },
    {
      "cell_type": "code",
      "metadata": {
        "id": "WU51uUq4FtuR",
        "outputId": "443f8f44-0b56-44a3-ec6c-ef8cb1e09ca1"
      },
      "source": [
        "corona_data_aggregate.loc['China'].diff().plot()"
      ],
      "execution_count": null,
      "outputs": [
        {
          "output_type": "execute_result",
          "data": {
            "text/plain": [
              "<matplotlib.axes._subplots.AxesSubplot at 0x22dc6ab2940>"
            ]
          },
          "metadata": {
            "tags": []
          },
          "execution_count": 12
        },
        {
          "output_type": "display_data",
          "data": {
            "image/png": "[encoded data removed]",
            "text/plain": [
              "<Figure size 432x288 with 1 Axes>"
            ]
          },
          "metadata": {
            "tags": [],
            "needs_background": "light"
          }
        }
      ]
    },
    {
      "cell_type": "markdown",
      "metadata": {
        "id": "fWXTqNxHFtuS"
      },
      "source": [
        "### Finding maxmimum infection rate for China"
      ]
    },
    {
      "cell_type": "code",
      "metadata": {
        "id": "ws67rfnNFtuT",
        "outputId": "10e4296f-d09f-4154-9b18-b30afd970d60"
      },
      "source": [
        "corona_data_aggregate.loc['China'].diff().max()"
      ],
      "execution_count": null,
      "outputs": [
        {
          "output_type": "execute_result",
          "data": {
            "text/plain": [
              "15136.0"
            ]
          },
          "metadata": {
            "tags": []
          },
          "execution_count": 13
        }
      ]
    },
    {
      "cell_type": "code",
      "metadata": {
        "id": "EUaJFLeOFtuU",
        "outputId": "01458fd4-bee6-4be3-ff7a-e5528f4f302d"
      },
      "source": [
        "corona_data_aggregate.loc['India'].diff().max()"
      ],
      "execution_count": null,
      "outputs": [
        {
          "output_type": "execute_result",
          "data": {
            "text/plain": [
              "1893.0"
            ]
          },
          "metadata": {
            "tags": []
          },
          "execution_count": 14
        }
      ]
    },
    {
      "cell_type": "code",
      "metadata": {
        "id": "dHIo_MOpFtuV",
        "outputId": "3bc5cb6d-abd5-4da5-95c1-dcd76f52fdc6"
      },
      "source": [
        "corona_data_aggregate.loc['US'].diff().max()"
      ],
      "execution_count": null,
      "outputs": [
        {
          "output_type": "execute_result",
          "data": {
            "text/plain": [
              "36188.0"
            ]
          },
          "metadata": {
            "tags": []
          },
          "execution_count": 15
        }
      ]
    },
    {
      "cell_type": "markdown",
      "metadata": {
        "id": "CyRcvfSwFtuW"
      },
      "source": [
        "### Finding maximum infection rate for all of the countries. "
      ]
    },
    {
      "cell_type": "code",
      "metadata": {
        "id": "drEWSD04FtuW"
      },
      "source": [
        "countries = list(corona_data_aggregate.index)\n",
        "max_infection_rates = []\n",
        "for c in countries:\n",
        "    max_infection_rates.append(corona_data_aggregate.loc[c].diff().max())\n",
        "corona_data_aggregate['Max_Infection_Rate']=max_infection_rates"
      ],
      "execution_count": null,
      "outputs": []
    },
    {
      "cell_type": "code",
      "metadata": {
        "id": "ImfBL5XOFtuX",
        "outputId": "6eb3382c-cc80-4ea0-8dbf-1a6b06c2da05"
      },
      "source": [
        "corona_data_aggregate.head(10)"
      ],
      "execution_count": null,
      "outputs": [
        {
          "output_type": "execute_result",
          "data": {
            "text/html": [
              "<div>\n",
              "<style scoped>\n",
              "    .dataframe tbody tr th:only-of-type {\n",
              "        vertical-align: middle;\n",
              "    }\n",
              "\n",
              "    .dataframe tbody tr th {\n",
              "        vertical-align: top;\n",
              "    }\n",
              "\n",
              "    .dataframe thead th {\n",
              "        text-align: right;\n",
              "    }\n",
              "</style>\n",
              "<table border=\"1\" class=\"dataframe\">\n",
              "  <thead>\n",
              "    <tr style=\"text-align: right;\">\n",
              "      <th></th>\n",
              "      <th>1/22/20</th>\n",
              "      <th>1/23/20</th>\n",
              "      <th>1/24/20</th>\n",
              "      <th>1/25/20</th>\n",
              "      <th>1/26/20</th>\n",
              "      <th>1/27/20</th>\n",
              "      <th>1/28/20</th>\n",
              "      <th>1/29/20</th>\n",
              "      <th>1/30/20</th>\n",
              "      <th>1/31/20</th>\n",
              "      <th>...</th>\n",
              "      <th>4/22/20</th>\n",
              "      <th>4/23/20</th>\n",
              "      <th>4/24/20</th>\n",
              "      <th>4/25/20</th>\n",
              "      <th>4/26/20</th>\n",
              "      <th>4/27/20</th>\n",
              "      <th>4/28/20</th>\n",
              "      <th>4/29/20</th>\n",
              "      <th>4/30/20</th>\n",
              "      <th>Max_Infection_Rate</th>\n",
              "    </tr>\n",
              "    <tr>\n",
              "      <th>Country/Region</th>\n",
              "      <th></th>\n",
              "      <th></th>\n",
              "      <th></th>\n",
              "      <th></th>\n",
              "      <th></th>\n",
              "      <th></th>\n",
              "      <th></th>\n",
              "      <th></th>\n",
              "      <th></th>\n",
              "      <th></th>\n",
              "      <th></th>\n",
              "      <th></th>\n",
              "      <th></th>\n",
              "      <th></th>\n",
              "      <th></th>\n",
              "      <th></th>\n",
              "      <th></th>\n",
              "      <th></th>\n",
              "      <th></th>\n",
              "      <th></th>\n",
              "      <th></th>\n",
              "    </tr>\n",
              "  </thead>\n",
              "  <tbody>\n",
              "    <tr>\n",
              "      <th>Afghanistan</th>\n",
              "      <td>0</td>\n",
              "      <td>0</td>\n",
              "      <td>0</td>\n",
              "      <td>0</td>\n",
              "      <td>0</td>\n",
              "      <td>0</td>\n",
              "      <td>0</td>\n",
              "      <td>0</td>\n",
              "      <td>0</td>\n",
              "      <td>0</td>\n",
              "      <td>...</td>\n",
              "      <td>1176</td>\n",
              "      <td>1279</td>\n",
              "      <td>1351</td>\n",
              "      <td>1463</td>\n",
              "      <td>1531</td>\n",
              "      <td>1703</td>\n",
              "      <td>1828</td>\n",
              "      <td>1939</td>\n",
              "      <td>2171</td>\n",
              "      <td>232.0</td>\n",
              "    </tr>\n",
              "    <tr>\n",
              "      <th>Albania</th>\n",
              "      <td>0</td>\n",
              "      <td>0</td>\n",
              "      <td>0</td>\n",
              "      <td>0</td>\n",
              "      <td>0</td>\n",
              "      <td>0</td>\n",
              "      <td>0</td>\n",
              "      <td>0</td>\n",
              "      <td>0</td>\n",
              "      <td>0</td>\n",
              "      <td>...</td>\n",
              "      <td>634</td>\n",
              "      <td>663</td>\n",
              "      <td>678</td>\n",
              "      <td>712</td>\n",
              "      <td>726</td>\n",
              "      <td>736</td>\n",
              "      <td>750</td>\n",
              "      <td>766</td>\n",
              "      <td>773</td>\n",
              "      <td>34.0</td>\n",
              "    </tr>\n",
              "    <tr>\n",
              "      <th>Algeria</th>\n",
              "      <td>0</td>\n",
              "      <td>0</td>\n",
              "      <td>0</td>\n",
              "      <td>0</td>\n",
              "      <td>0</td>\n",
              "      <td>0</td>\n",
              "      <td>0</td>\n",
              "      <td>0</td>\n",
              "      <td>0</td>\n",
              "      <td>0</td>\n",
              "      <td>...</td>\n",
              "      <td>2910</td>\n",
              "      <td>3007</td>\n",
              "      <td>3127</td>\n",
              "      <td>3256</td>\n",
              "      <td>3382</td>\n",
              "      <td>3517</td>\n",
              "      <td>3649</td>\n",
              "      <td>3848</td>\n",
              "      <td>4006</td>\n",
              "      <td>199.0</td>\n",
              "    </tr>\n",
              "    <tr>\n",
              "      <th>Andorra</th>\n",
              "      <td>0</td>\n",
              "      <td>0</td>\n",
              "      <td>0</td>\n",
              "      <td>0</td>\n",
              "      <td>0</td>\n",
              "      <td>0</td>\n",
              "      <td>0</td>\n",
              "      <td>0</td>\n",
              "      <td>0</td>\n",
              "      <td>0</td>\n",
              "      <td>...</td>\n",
              "      <td>723</td>\n",
              "      <td>723</td>\n",
              "      <td>731</td>\n",
              "      <td>738</td>\n",
              "      <td>738</td>\n",
              "      <td>743</td>\n",
              "      <td>743</td>\n",
              "      <td>743</td>\n",
              "      <td>745</td>\n",
              "      <td>43.0</td>\n",
              "    </tr>\n",
              "    <tr>\n",
              "      <th>Angola</th>\n",
              "      <td>0</td>\n",
              "      <td>0</td>\n",
              "      <td>0</td>\n",
              "      <td>0</td>\n",
              "      <td>0</td>\n",
              "      <td>0</td>\n",
              "      <td>0</td>\n",
              "      <td>0</td>\n",
              "      <td>0</td>\n",
              "      <td>0</td>\n",
              "      <td>...</td>\n",
              "      <td>25</td>\n",
              "      <td>25</td>\n",
              "      <td>25</td>\n",
              "      <td>25</td>\n",
              "      <td>26</td>\n",
              "      <td>27</td>\n",
              "      <td>27</td>\n",
              "      <td>27</td>\n",
              "      <td>27</td>\n",
              "      <td>5.0</td>\n",
              "    </tr>\n",
              "    <tr>\n",
              "      <th>Antigua and Barbuda</th>\n",
              "      <td>0</td>\n",
              "      <td>0</td>\n",
              "      <td>0</td>\n",
              "      <td>0</td>\n",
              "      <td>0</td>\n",
              "      <td>0</td>\n",
              "      <td>0</td>\n",
              "      <td>0</td>\n",
              "      <td>0</td>\n",
              "      <td>0</td>\n",
              "      <td>...</td>\n",
              "      <td>24</td>\n",
              "      <td>24</td>\n",
              "      <td>24</td>\n",
              "      <td>24</td>\n",
              "      <td>24</td>\n",
              "      <td>24</td>\n",
              "      <td>24</td>\n",
              "      <td>24</td>\n",
              "      <td>24</td>\n",
              "      <td>6.0</td>\n",
              "    </tr>\n",
              "    <tr>\n",
              "      <th>Argentina</th>\n",
              "      <td>0</td>\n",
              "      <td>0</td>\n",
              "      <td>0</td>\n",
              "      <td>0</td>\n",
              "      <td>0</td>\n",
              "      <td>0</td>\n",
              "      <td>0</td>\n",
              "      <td>0</td>\n",
              "      <td>0</td>\n",
              "      <td>0</td>\n",
              "      <td>...</td>\n",
              "      <td>3144</td>\n",
              "      <td>3435</td>\n",
              "      <td>3607</td>\n",
              "      <td>3780</td>\n",
              "      <td>3892</td>\n",
              "      <td>4003</td>\n",
              "      <td>4127</td>\n",
              "      <td>4285</td>\n",
              "      <td>4428</td>\n",
              "      <td>291.0</td>\n",
              "    </tr>\n",
              "    <tr>\n",
              "      <th>Armenia</th>\n",
              "      <td>0</td>\n",
              "      <td>0</td>\n",
              "      <td>0</td>\n",
              "      <td>0</td>\n",
              "      <td>0</td>\n",
              "      <td>0</td>\n",
              "      <td>0</td>\n",
              "      <td>0</td>\n",
              "      <td>0</td>\n",
              "      <td>0</td>\n",
              "      <td>...</td>\n",
              "      <td>1473</td>\n",
              "      <td>1523</td>\n",
              "      <td>1596</td>\n",
              "      <td>1677</td>\n",
              "      <td>1746</td>\n",
              "      <td>1808</td>\n",
              "      <td>1867</td>\n",
              "      <td>1932</td>\n",
              "      <td>2066</td>\n",
              "      <td>134.0</td>\n",
              "    </tr>\n",
              "    <tr>\n",
              "      <th>Australia</th>\n",
              "      <td>0</td>\n",
              "      <td>0</td>\n",
              "      <td>0</td>\n",
              "      <td>0</td>\n",
              "      <td>4</td>\n",
              "      <td>5</td>\n",
              "      <td>5</td>\n",
              "      <td>6</td>\n",
              "      <td>9</td>\n",
              "      <td>9</td>\n",
              "      <td>...</td>\n",
              "      <td>6652</td>\n",
              "      <td>6662</td>\n",
              "      <td>6677</td>\n",
              "      <td>6694</td>\n",
              "      <td>6714</td>\n",
              "      <td>6721</td>\n",
              "      <td>6744</td>\n",
              "      <td>6752</td>\n",
              "      <td>6766</td>\n",
              "      <td>497.0</td>\n",
              "    </tr>\n",
              "    <tr>\n",
              "      <th>Austria</th>\n",
              "      <td>0</td>\n",
              "      <td>0</td>\n",
              "      <td>0</td>\n",
              "      <td>0</td>\n",
              "      <td>0</td>\n",
              "      <td>0</td>\n",
              "      <td>0</td>\n",
              "      <td>0</td>\n",
              "      <td>0</td>\n",
              "      <td>0</td>\n",
              "      <td>...</td>\n",
              "      <td>14925</td>\n",
              "      <td>15002</td>\n",
              "      <td>15071</td>\n",
              "      <td>15148</td>\n",
              "      <td>15225</td>\n",
              "      <td>15274</td>\n",
              "      <td>15357</td>\n",
              "      <td>15402</td>\n",
              "      <td>15452</td>\n",
              "      <td>1321.0</td>\n",
              "    </tr>\n",
              "  </tbody>\n",
              "</table>\n",
              "<p>10 rows × 101 columns</p>\n",
              "</div>"
            ],
            "text/plain": [
              "                     1/22/20  1/23/20  1/24/20  1/25/20  1/26/20  1/27/20  \\\n",
              "Country/Region                                                              \n",
              "Afghanistan                0        0        0        0        0        0   \n",
              "Albania                    0        0        0        0        0        0   \n",
              "Algeria                    0        0        0        0        0        0   \n",
              "Andorra                    0        0        0        0        0        0   \n",
              "Angola                     0        0        0        0        0        0   \n",
              "Antigua and Barbuda        0        0        0        0        0        0   \n",
              "Argentina                  0        0        0        0        0        0   \n",
              "Armenia                    0        0        0        0        0        0   \n",
              "Australia                  0        0        0        0        4        5   \n",
              "Austria                    0        0        0        0        0        0   \n",
              "\n",
              "                     1/28/20  1/29/20  1/30/20  1/31/20  ...  4/22/20  \\\n",
              "Country/Region                                           ...            \n",
              "Afghanistan                0        0        0        0  ...     1176   \n",
              "Albania                    0        0        0        0  ...      634   \n",
              "Algeria                    0        0        0        0  ...     2910   \n",
              "Andorra                    0        0        0        0  ...      723   \n",
              "Angola                     0        0        0        0  ...       25   \n",
              "Antigua and Barbuda        0        0        0        0  ...       24   \n",
              "Argentina                  0        0        0        0  ...     3144   \n",
              "Armenia                    0        0        0        0  ...     1473   \n",
              "Australia                  5        6        9        9  ...     6652   \n",
              "Austria                    0        0        0        0  ...    14925   \n",
              "\n",
              "                     4/23/20  4/24/20  4/25/20  4/26/20  4/27/20  4/28/20  \\\n",
              "Country/Region                                                              \n",
              "Afghanistan             1279     1351     1463     1531     1703     1828   \n",
              "Albania                  663      678      712      726      736      750   \n",
              "Algeria                 3007     3127     3256     3382     3517     3649   \n",
              "Andorra                  723      731      738      738      743      743   \n",
              "Angola                    25       25       25       26       27       27   \n",
              "Antigua and Barbuda       24       24       24       24       24       24   \n",
              "Argentina               3435     3607     3780     3892     4003     4127   \n",
              "Armenia                 1523     1596     1677     1746     1808     1867   \n",
              "Australia               6662     6677     6694     6714     6721     6744   \n",
              "Austria                15002    15071    15148    15225    15274    15357   \n",
              "\n",
              "                     4/29/20  4/30/20  Max_Infection_Rate  \n",
              "Country/Region                                             \n",
              "Afghanistan             1939     2171               232.0  \n",
              "Albania                  766      773                34.0  \n",
              "Algeria                 3848     4006               199.0  \n",
              "Andorra                  743      745                43.0  \n",
              "Angola                    27       27                 5.0  \n",
              "Antigua and Barbuda       24       24                 6.0  \n",
              "Argentina               4285     4428               291.0  \n",
              "Armenia                 1932     2066               134.0  \n",
              "Australia               6752     6766               497.0  \n",
              "Austria                15402    15452              1321.0  \n",
              "\n",
              "[10 rows x 101 columns]"
            ]
          },
          "metadata": {
            "tags": []
          },
          "execution_count": 17
        }
      ]
    },
    {
      "cell_type": "code",
      "metadata": {
        "id": "Pvmee9VuFtuY"
      },
      "source": [
        "corona_data = pd.DataFrame(corona_data_aggregate['Max_Infection_Rate'])"
      ],
      "execution_count": null,
      "outputs": []
    },
    {
      "cell_type": "code",
      "metadata": {
        "id": "x8I_tMOhFtuY",
        "outputId": "7b083c24-e8be-4cfd-81fc-15f55b5a173e"
      },
      "source": [
        "corona_data.head()"
      ],
      "execution_count": null,
      "outputs": [
        {
          "output_type": "execute_result",
          "data": {
            "text/html": [
              "<div>\n",
              "<style scoped>\n",
              "    .dataframe tbody tr th:only-of-type {\n",
              "        vertical-align: middle;\n",
              "    }\n",
              "\n",
              "    .dataframe tbody tr th {\n",
              "        vertical-align: top;\n",
              "    }\n",
              "\n",
              "    .dataframe thead th {\n",
              "        text-align: right;\n",
              "    }\n",
              "</style>\n",
              "<table border=\"1\" class=\"dataframe\">\n",
              "  <thead>\n",
              "    <tr style=\"text-align: right;\">\n",
              "      <th></th>\n",
              "      <th>Max_Infection_Rate</th>\n",
              "    </tr>\n",
              "    <tr>\n",
              "      <th>Country/Region</th>\n",
              "      <th></th>\n",
              "    </tr>\n",
              "  </thead>\n",
              "  <tbody>\n",
              "    <tr>\n",
              "      <th>Afghanistan</th>\n",
              "      <td>232.0</td>\n",
              "    </tr>\n",
              "    <tr>\n",
              "      <th>Albania</th>\n",
              "      <td>34.0</td>\n",
              "    </tr>\n",
              "    <tr>\n",
              "      <th>Algeria</th>\n",
              "      <td>199.0</td>\n",
              "    </tr>\n",
              "    <tr>\n",
              "      <th>Andorra</th>\n",
              "      <td>43.0</td>\n",
              "    </tr>\n",
              "    <tr>\n",
              "      <th>Angola</th>\n",
              "      <td>5.0</td>\n",
              "    </tr>\n",
              "  </tbody>\n",
              "</table>\n",
              "</div>"
            ],
            "text/plain": [
              "                Max_Infection_Rate\n",
              "Country/Region                    \n",
              "Afghanistan                  232.0\n",
              "Albania                       34.0\n",
              "Algeria                      199.0\n",
              "Andorra                       43.0\n",
              "Angola                         5.0"
            ]
          },
          "metadata": {
            "tags": []
          },
          "execution_count": 20
        }
      ]
    },
    {
      "cell_type": "code",
      "metadata": {
        "id": "BTEF2mkDFtua"
      },
      "source": [
        "happiness_report = pd.read_csv('worldwide_happiness_report.csv')"
      ],
      "execution_count": null,
      "outputs": []
    },
    {
      "cell_type": "code",
      "metadata": {
        "id": "3f2dFcWDFtub",
        "outputId": "df5e543b-279b-4c10-8c60-d022247e9059"
      },
      "source": [
        "happiness_report.head()"
      ],
      "execution_count": null,
      "outputs": [
        {
          "output_type": "execute_result",
          "data": {
            "text/html": [
              "<div>\n",
              "<style scoped>\n",
              "    .dataframe tbody tr th:only-of-type {\n",
              "        vertical-align: middle;\n",
              "    }\n",
              "\n",
              "    .dataframe tbody tr th {\n",
              "        vertical-align: top;\n",
              "    }\n",
              "\n",
              "    .dataframe thead th {\n",
              "        text-align: right;\n",
              "    }\n",
              "</style>\n",
              "<table border=\"1\" class=\"dataframe\">\n",
              "  <thead>\n",
              "    <tr style=\"text-align: right;\">\n",
              "      <th></th>\n",
              "      <th>Overall rank</th>\n",
              "      <th>Country or region</th>\n",
              "      <th>Score</th>\n",
              "      <th>GDP per capita</th>\n",
              "      <th>Social support</th>\n",
              "      <th>Healthy life expectancy</th>\n",
              "      <th>Freedom to make life choices</th>\n",
              "      <th>Generosity</th>\n",
              "      <th>Perceptions of corruption</th>\n",
              "    </tr>\n",
              "  </thead>\n",
              "  <tbody>\n",
              "    <tr>\n",
              "      <th>0</th>\n",
              "      <td>1</td>\n",
              "      <td>Finland</td>\n",
              "      <td>7.769</td>\n",
              "      <td>1.340</td>\n",
              "      <td>1.587</td>\n",
              "      <td>0.986</td>\n",
              "      <td>0.596</td>\n",
              "      <td>0.153</td>\n",
              "      <td>0.393</td>\n",
              "    </tr>\n",
              "    <tr>\n",
              "      <th>1</th>\n",
              "      <td>2</td>\n",
              "      <td>Denmark</td>\n",
              "      <td>7.600</td>\n",
              "      <td>1.383</td>\n",
              "      <td>1.573</td>\n",
              "      <td>0.996</td>\n",
              "      <td>0.592</td>\n",
              "      <td>0.252</td>\n",
              "      <td>0.410</td>\n",
              "    </tr>\n",
              "    <tr>\n",
              "      <th>2</th>\n",
              "      <td>3</td>\n",
              "      <td>Norway</td>\n",
              "      <td>7.554</td>\n",
              "      <td>1.488</td>\n",
              "      <td>1.582</td>\n",
              "      <td>1.028</td>\n",
              "      <td>0.603</td>\n",
              "      <td>0.271</td>\n",
              "      <td>0.341</td>\n",
              "    </tr>\n",
              "    <tr>\n",
              "      <th>3</th>\n",
              "      <td>4</td>\n",
              "      <td>Iceland</td>\n",
              "      <td>7.494</td>\n",
              "      <td>1.380</td>\n",
              "      <td>1.624</td>\n",
              "      <td>1.026</td>\n",
              "      <td>0.591</td>\n",
              "      <td>0.354</td>\n",
              "      <td>0.118</td>\n",
              "    </tr>\n",
              "    <tr>\n",
              "      <th>4</th>\n",
              "      <td>5</td>\n",
              "      <td>Netherlands</td>\n",
              "      <td>7.488</td>\n",
              "      <td>1.396</td>\n",
              "      <td>1.522</td>\n",
              "      <td>0.999</td>\n",
              "      <td>0.557</td>\n",
              "      <td>0.322</td>\n",
              "      <td>0.298</td>\n",
              "    </tr>\n",
              "  </tbody>\n",
              "</table>\n",
              "</div>"
            ],
            "text/plain": [
              "   Overall rank Country or region  Score  GDP per capita  Social support  \\\n",
              "0             1           Finland  7.769           1.340           1.587   \n",
              "1             2           Denmark  7.600           1.383           1.573   \n",
              "2             3            Norway  7.554           1.488           1.582   \n",
              "3             4           Iceland  7.494           1.380           1.624   \n",
              "4             5       Netherlands  7.488           1.396           1.522   \n",
              "\n",
              "   Healthy life expectancy  Freedom to make life choices  Generosity  \\\n",
              "0                    0.986                         0.596       0.153   \n",
              "1                    0.996                         0.592       0.252   \n",
              "2                    1.028                         0.603       0.271   \n",
              "3                    1.026                         0.591       0.354   \n",
              "4                    0.999                         0.557       0.322   \n",
              "\n",
              "   Perceptions of corruption  \n",
              "0                      0.393  \n",
              "1                      0.410  \n",
              "2                      0.341  \n",
              "3                      0.118  \n",
              "4                      0.298  "
            ]
          },
          "metadata": {
            "tags": []
          },
          "execution_count": 30
        }
      ]
    },
    {
      "cell_type": "code",
      "metadata": {
        "id": "uhhLx7IfFtuc"
      },
      "source": [
        "useless_cols=['Overall rank','Score','Generosity','Perceptions of corruption']\n"
      ],
      "execution_count": null,
      "outputs": []
    },
    {
      "cell_type": "code",
      "metadata": {
        "id": "u0fEHTGnFtuc",
        "outputId": "895fa4c9-75af-4e55-fb08-cd2fcf1a5824"
      },
      "source": [
        "#happiness_report.drop(useless_cols,axis=1,inplace=True)\n",
        "happiness_report.head()"
      ],
      "execution_count": null,
      "outputs": [
        {
          "output_type": "execute_result",
          "data": {
            "text/html": [
              "<div>\n",
              "<style scoped>\n",
              "    .dataframe tbody tr th:only-of-type {\n",
              "        vertical-align: middle;\n",
              "    }\n",
              "\n",
              "    .dataframe tbody tr th {\n",
              "        vertical-align: top;\n",
              "    }\n",
              "\n",
              "    .dataframe thead th {\n",
              "        text-align: right;\n",
              "    }\n",
              "</style>\n",
              "<table border=\"1\" class=\"dataframe\">\n",
              "  <thead>\n",
              "    <tr style=\"text-align: right;\">\n",
              "      <th></th>\n",
              "      <th>GDP per capita</th>\n",
              "      <th>Social support</th>\n",
              "      <th>Healthy life expectancy</th>\n",
              "      <th>Freedom to make life choices</th>\n",
              "    </tr>\n",
              "    <tr>\n",
              "      <th>Country or region</th>\n",
              "      <th></th>\n",
              "      <th></th>\n",
              "      <th></th>\n",
              "      <th></th>\n",
              "    </tr>\n",
              "  </thead>\n",
              "  <tbody>\n",
              "    <tr>\n",
              "      <th>Finland</th>\n",
              "      <td>1.340</td>\n",
              "      <td>1.587</td>\n",
              "      <td>0.986</td>\n",
              "      <td>0.596</td>\n",
              "    </tr>\n",
              "    <tr>\n",
              "      <th>Denmark</th>\n",
              "      <td>1.383</td>\n",
              "      <td>1.573</td>\n",
              "      <td>0.996</td>\n",
              "      <td>0.592</td>\n",
              "    </tr>\n",
              "    <tr>\n",
              "      <th>Norway</th>\n",
              "      <td>1.488</td>\n",
              "      <td>1.582</td>\n",
              "      <td>1.028</td>\n",
              "      <td>0.603</td>\n",
              "    </tr>\n",
              "    <tr>\n",
              "      <th>Iceland</th>\n",
              "      <td>1.380</td>\n",
              "      <td>1.624</td>\n",
              "      <td>1.026</td>\n",
              "      <td>0.591</td>\n",
              "    </tr>\n",
              "    <tr>\n",
              "      <th>Netherlands</th>\n",
              "      <td>1.396</td>\n",
              "      <td>1.522</td>\n",
              "      <td>0.999</td>\n",
              "      <td>0.557</td>\n",
              "    </tr>\n",
              "  </tbody>\n",
              "</table>\n",
              "</div>"
            ],
            "text/plain": [
              "                   GDP per capita  Social support  Healthy life expectancy  \\\n",
              "Country or region                                                            \n",
              "Finland                     1.340           1.587                    0.986   \n",
              "Denmark                     1.383           1.573                    0.996   \n",
              "Norway                      1.488           1.582                    1.028   \n",
              "Iceland                     1.380           1.624                    1.026   \n",
              "Netherlands                 1.396           1.522                    0.999   \n",
              "\n",
              "                   Freedom to make life choices  \n",
              "Country or region                                \n",
              "Finland                                   0.596  \n",
              "Denmark                                   0.592  \n",
              "Norway                                    0.603  \n",
              "Iceland                                   0.591  \n",
              "Netherlands                               0.557  "
            ]
          },
          "metadata": {
            "tags": []
          },
          "execution_count": 38
        }
      ]
    },
    {
      "cell_type": "markdown",
      "metadata": {
        "id": "J6KU1e2nFtud"
      },
      "source": [
        "### Changing the indices of the dataframe"
      ]
    },
    {
      "cell_type": "code",
      "metadata": {
        "id": "S0rvpD-CFtud",
        "outputId": "34a9ba67-5d5c-4c90-b298-806decd73a81"
      },
      "source": [
        "#happiness_report.set_index('Country or region')\n",
        "happiness_report.head()"
      ],
      "execution_count": null,
      "outputs": [
        {
          "output_type": "execute_result",
          "data": {
            "text/html": [
              "<div>\n",
              "<style scoped>\n",
              "    .dataframe tbody tr th:only-of-type {\n",
              "        vertical-align: middle;\n",
              "    }\n",
              "\n",
              "    .dataframe tbody tr th {\n",
              "        vertical-align: top;\n",
              "    }\n",
              "\n",
              "    .dataframe thead th {\n",
              "        text-align: right;\n",
              "    }\n",
              "</style>\n",
              "<table border=\"1\" class=\"dataframe\">\n",
              "  <thead>\n",
              "    <tr style=\"text-align: right;\">\n",
              "      <th></th>\n",
              "      <th>GDP per capita</th>\n",
              "      <th>Social support</th>\n",
              "      <th>Healthy life expectancy</th>\n",
              "      <th>Freedom to make life choices</th>\n",
              "    </tr>\n",
              "    <tr>\n",
              "      <th>Country or region</th>\n",
              "      <th></th>\n",
              "      <th></th>\n",
              "      <th></th>\n",
              "      <th></th>\n",
              "    </tr>\n",
              "  </thead>\n",
              "  <tbody>\n",
              "    <tr>\n",
              "      <th>Finland</th>\n",
              "      <td>1.340</td>\n",
              "      <td>1.587</td>\n",
              "      <td>0.986</td>\n",
              "      <td>0.596</td>\n",
              "    </tr>\n",
              "    <tr>\n",
              "      <th>Denmark</th>\n",
              "      <td>1.383</td>\n",
              "      <td>1.573</td>\n",
              "      <td>0.996</td>\n",
              "      <td>0.592</td>\n",
              "    </tr>\n",
              "    <tr>\n",
              "      <th>Norway</th>\n",
              "      <td>1.488</td>\n",
              "      <td>1.582</td>\n",
              "      <td>1.028</td>\n",
              "      <td>0.603</td>\n",
              "    </tr>\n",
              "    <tr>\n",
              "      <th>Iceland</th>\n",
              "      <td>1.380</td>\n",
              "      <td>1.624</td>\n",
              "      <td>1.026</td>\n",
              "      <td>0.591</td>\n",
              "    </tr>\n",
              "    <tr>\n",
              "      <th>Netherlands</th>\n",
              "      <td>1.396</td>\n",
              "      <td>1.522</td>\n",
              "      <td>0.999</td>\n",
              "      <td>0.557</td>\n",
              "    </tr>\n",
              "  </tbody>\n",
              "</table>\n",
              "</div>"
            ],
            "text/plain": [
              "                   GDP per capita  Social support  Healthy life expectancy  \\\n",
              "Country or region                                                            \n",
              "Finland                     1.340           1.587                    0.986   \n",
              "Denmark                     1.383           1.573                    0.996   \n",
              "Norway                      1.488           1.582                    1.028   \n",
              "Iceland                     1.380           1.624                    1.026   \n",
              "Netherlands                 1.396           1.522                    0.999   \n",
              "\n",
              "                   Freedom to make life choices  \n",
              "Country or region                                \n",
              "Finland                                   0.596  \n",
              "Denmark                                   0.592  \n",
              "Norway                                    0.603  \n",
              "Iceland                                   0.591  \n",
              "Netherlands                               0.557  "
            ]
          },
          "metadata": {
            "tags": []
          },
          "execution_count": 40
        }
      ]
    },
    {
      "cell_type": "markdown",
      "metadata": {
        "id": "TWF6oU_XFtue"
      },
      "source": [
        "### Joining the two datasets"
      ]
    },
    {
      "cell_type": "markdown",
      "metadata": {
        "id": "6iF1y8QzFtue"
      },
      "source": [
        "#### Corona Dataset :"
      ]
    },
    {
      "cell_type": "code",
      "metadata": {
        "id": "Ure9Z7C1Ftuf",
        "outputId": "f93024d9-a416-40c6-aedb-bbeba7804215"
      },
      "source": [
        "corona_data.shape"
      ],
      "execution_count": null,
      "outputs": [
        {
          "output_type": "execute_result",
          "data": {
            "text/plain": [
              "(187, 1)"
            ]
          },
          "metadata": {
            "tags": []
          },
          "execution_count": 41
        }
      ]
    },
    {
      "cell_type": "markdown",
      "metadata": {
        "id": "S3KxN3M0Ftuf"
      },
      "source": [
        "#### wolrd happiness report Dataset :"
      ]
    },
    {
      "cell_type": "code",
      "metadata": {
        "id": "YvE4u99hFtug",
        "outputId": "d5b0b59d-3935-4b92-dfc7-309d4fa142ce"
      },
      "source": [
        "happiness_report.shape"
      ],
      "execution_count": null,
      "outputs": [
        {
          "output_type": "execute_result",
          "data": {
            "text/plain": [
              "(156, 4)"
            ]
          },
          "metadata": {
            "tags": []
          },
          "execution_count": 42
        }
      ]
    },
    {
      "cell_type": "code",
      "metadata": {
        "id": "O_JO7s3OFtug",
        "outputId": "ab31850e-2707-4e1d-b1b8-e8098c0f0fd0"
      },
      "source": [
        "data = corona_data.join(happiness_report,how='inner')\n",
        "data.head()"
      ],
      "execution_count": null,
      "outputs": [
        {
          "output_type": "execute_result",
          "data": {
            "text/html": [
              "<div>\n",
              "<style scoped>\n",
              "    .dataframe tbody tr th:only-of-type {\n",
              "        vertical-align: middle;\n",
              "    }\n",
              "\n",
              "    .dataframe tbody tr th {\n",
              "        vertical-align: top;\n",
              "    }\n",
              "\n",
              "    .dataframe thead th {\n",
              "        text-align: right;\n",
              "    }\n",
              "</style>\n",
              "<table border=\"1\" class=\"dataframe\">\n",
              "  <thead>\n",
              "    <tr style=\"text-align: right;\">\n",
              "      <th></th>\n",
              "      <th>Max_Infection_Rate</th>\n",
              "      <th>GDP per capita</th>\n",
              "      <th>Social support</th>\n",
              "      <th>Healthy life expectancy</th>\n",
              "      <th>Freedom to make life choices</th>\n",
              "    </tr>\n",
              "  </thead>\n",
              "  <tbody>\n",
              "    <tr>\n",
              "      <th>Afghanistan</th>\n",
              "      <td>232.0</td>\n",
              "      <td>0.350</td>\n",
              "      <td>0.517</td>\n",
              "      <td>0.361</td>\n",
              "      <td>0.000</td>\n",
              "    </tr>\n",
              "    <tr>\n",
              "      <th>Albania</th>\n",
              "      <td>34.0</td>\n",
              "      <td>0.947</td>\n",
              "      <td>0.848</td>\n",
              "      <td>0.874</td>\n",
              "      <td>0.383</td>\n",
              "    </tr>\n",
              "    <tr>\n",
              "      <th>Algeria</th>\n",
              "      <td>199.0</td>\n",
              "      <td>1.002</td>\n",
              "      <td>1.160</td>\n",
              "      <td>0.785</td>\n",
              "      <td>0.086</td>\n",
              "    </tr>\n",
              "    <tr>\n",
              "      <th>Argentina</th>\n",
              "      <td>291.0</td>\n",
              "      <td>1.092</td>\n",
              "      <td>1.432</td>\n",
              "      <td>0.881</td>\n",
              "      <td>0.471</td>\n",
              "    </tr>\n",
              "    <tr>\n",
              "      <th>Armenia</th>\n",
              "      <td>134.0</td>\n",
              "      <td>0.850</td>\n",
              "      <td>1.055</td>\n",
              "      <td>0.815</td>\n",
              "      <td>0.283</td>\n",
              "    </tr>\n",
              "  </tbody>\n",
              "</table>\n",
              "</div>"
            ],
            "text/plain": [
              "             Max_Infection_Rate  GDP per capita  Social support  \\\n",
              "Afghanistan               232.0           0.350           0.517   \n",
              "Albania                    34.0           0.947           0.848   \n",
              "Algeria                   199.0           1.002           1.160   \n",
              "Argentina                 291.0           1.092           1.432   \n",
              "Armenia                   134.0           0.850           1.055   \n",
              "\n",
              "             Healthy life expectancy  Freedom to make life choices  \n",
              "Afghanistan                    0.361                         0.000  \n",
              "Albania                        0.874                         0.383  \n",
              "Algeria                        0.785                         0.086  \n",
              "Argentina                      0.881                         0.471  \n",
              "Armenia                        0.815                         0.283  "
            ]
          },
          "metadata": {
            "tags": []
          },
          "execution_count": 43
        }
      ]
    },
    {
      "cell_type": "markdown",
      "metadata": {
        "id": "zgpb3rauFtuh"
      },
      "source": [
        "### Correlation matrix "
      ]
    },
    {
      "cell_type": "code",
      "metadata": {
        "id": "BeotzWJ6Ftui",
        "outputId": "2854b423-1aa2-49ee-8513-9f8f46d494c1"
      },
      "source": [
        "data.corr()"
      ],
      "execution_count": null,
      "outputs": [
        {
          "output_type": "execute_result",
          "data": {
            "text/html": [
              "<div>\n",
              "<style scoped>\n",
              "    .dataframe tbody tr th:only-of-type {\n",
              "        vertical-align: middle;\n",
              "    }\n",
              "\n",
              "    .dataframe tbody tr th {\n",
              "        vertical-align: top;\n",
              "    }\n",
              "\n",
              "    .dataframe thead th {\n",
              "        text-align: right;\n",
              "    }\n",
              "</style>\n",
              "<table border=\"1\" class=\"dataframe\">\n",
              "  <thead>\n",
              "    <tr style=\"text-align: right;\">\n",
              "      <th></th>\n",
              "      <th>Max_Infection_Rate</th>\n",
              "      <th>GDP per capita</th>\n",
              "      <th>Social support</th>\n",
              "      <th>Healthy life expectancy</th>\n",
              "      <th>Freedom to make life choices</th>\n",
              "    </tr>\n",
              "  </thead>\n",
              "  <tbody>\n",
              "    <tr>\n",
              "      <th>Max_Infection_Rate</th>\n",
              "      <td>1.000000</td>\n",
              "      <td>0.250118</td>\n",
              "      <td>0.191958</td>\n",
              "      <td>0.289263</td>\n",
              "      <td>0.078196</td>\n",
              "    </tr>\n",
              "    <tr>\n",
              "      <th>GDP per capita</th>\n",
              "      <td>0.250118</td>\n",
              "      <td>1.000000</td>\n",
              "      <td>0.759468</td>\n",
              "      <td>0.863062</td>\n",
              "      <td>0.394603</td>\n",
              "    </tr>\n",
              "    <tr>\n",
              "      <th>Social support</th>\n",
              "      <td>0.191958</td>\n",
              "      <td>0.759468</td>\n",
              "      <td>1.000000</td>\n",
              "      <td>0.765286</td>\n",
              "      <td>0.456246</td>\n",
              "    </tr>\n",
              "    <tr>\n",
              "      <th>Healthy life expectancy</th>\n",
              "      <td>0.289263</td>\n",
              "      <td>0.863062</td>\n",
              "      <td>0.765286</td>\n",
              "      <td>1.000000</td>\n",
              "      <td>0.427892</td>\n",
              "    </tr>\n",
              "    <tr>\n",
              "      <th>Freedom to make life choices</th>\n",
              "      <td>0.078196</td>\n",
              "      <td>0.394603</td>\n",
              "      <td>0.456246</td>\n",
              "      <td>0.427892</td>\n",
              "      <td>1.000000</td>\n",
              "    </tr>\n",
              "  </tbody>\n",
              "</table>\n",
              "</div>"
            ],
            "text/plain": [
              "                              Max_Infection_Rate  GDP per capita  \\\n",
              "Max_Infection_Rate                      1.000000        0.250118   \n",
              "GDP per capita                          0.250118        1.000000   \n",
              "Social support                          0.191958        0.759468   \n",
              "Healthy life expectancy                 0.289263        0.863062   \n",
              "Freedom to make life choices            0.078196        0.394603   \n",
              "\n",
              "                              Social support  Healthy life expectancy  \\\n",
              "Max_Infection_Rate                  0.191958                 0.289263   \n",
              "GDP per capita                      0.759468                 0.863062   \n",
              "Social support                      1.000000                 0.765286   \n",
              "Healthy life expectancy             0.765286                 1.000000   \n",
              "Freedom to make life choices        0.456246                 0.427892   \n",
              "\n",
              "                              Freedom to make life choices  \n",
              "Max_Infection_Rate                                0.078196  \n",
              "GDP per capita                                    0.394603  \n",
              "Social support                                    0.456246  \n",
              "Healthy life expectancy                           0.427892  \n",
              "Freedom to make life choices                      1.000000  "
            ]
          },
          "metadata": {
            "tags": []
          },
          "execution_count": 44
        }
      ]
    },
    {
      "cell_type": "code",
      "metadata": {
        "id": "iE7bYs0QFtuj",
        "outputId": "e55be9ae-afbe-414f-b80b-5f8ab1aabc64"
      },
      "source": [
        "data.head()"
      ],
      "execution_count": null,
      "outputs": [
        {
          "output_type": "execute_result",
          "data": {
            "text/html": [
              "<div>\n",
              "<style scoped>\n",
              "    .dataframe tbody tr th:only-of-type {\n",
              "        vertical-align: middle;\n",
              "    }\n",
              "\n",
              "    .dataframe tbody tr th {\n",
              "        vertical-align: top;\n",
              "    }\n",
              "\n",
              "    .dataframe thead th {\n",
              "        text-align: right;\n",
              "    }\n",
              "</style>\n",
              "<table border=\"1\" class=\"dataframe\">\n",
              "  <thead>\n",
              "    <tr style=\"text-align: right;\">\n",
              "      <th></th>\n",
              "      <th>Max_Infection_Rate</th>\n",
              "      <th>GDP per capita</th>\n",
              "      <th>Social support</th>\n",
              "      <th>Healthy life expectancy</th>\n",
              "      <th>Freedom to make life choices</th>\n",
              "    </tr>\n",
              "  </thead>\n",
              "  <tbody>\n",
              "    <tr>\n",
              "      <th>Afghanistan</th>\n",
              "      <td>232.0</td>\n",
              "      <td>0.350</td>\n",
              "      <td>0.517</td>\n",
              "      <td>0.361</td>\n",
              "      <td>0.000</td>\n",
              "    </tr>\n",
              "    <tr>\n",
              "      <th>Albania</th>\n",
              "      <td>34.0</td>\n",
              "      <td>0.947</td>\n",
              "      <td>0.848</td>\n",
              "      <td>0.874</td>\n",
              "      <td>0.383</td>\n",
              "    </tr>\n",
              "    <tr>\n",
              "      <th>Algeria</th>\n",
              "      <td>199.0</td>\n",
              "      <td>1.002</td>\n",
              "      <td>1.160</td>\n",
              "      <td>0.785</td>\n",
              "      <td>0.086</td>\n",
              "    </tr>\n",
              "    <tr>\n",
              "      <th>Argentina</th>\n",
              "      <td>291.0</td>\n",
              "      <td>1.092</td>\n",
              "      <td>1.432</td>\n",
              "      <td>0.881</td>\n",
              "      <td>0.471</td>\n",
              "    </tr>\n",
              "    <tr>\n",
              "      <th>Armenia</th>\n",
              "      <td>134.0</td>\n",
              "      <td>0.850</td>\n",
              "      <td>1.055</td>\n",
              "      <td>0.815</td>\n",
              "      <td>0.283</td>\n",
              "    </tr>\n",
              "  </tbody>\n",
              "</table>\n",
              "</div>"
            ],
            "text/plain": [
              "             Max_Infection_Rate  GDP per capita  Social support  \\\n",
              "Afghanistan               232.0           0.350           0.517   \n",
              "Albania                    34.0           0.947           0.848   \n",
              "Algeria                   199.0           1.002           1.160   \n",
              "Argentina                 291.0           1.092           1.432   \n",
              "Armenia                   134.0           0.850           1.055   \n",
              "\n",
              "             Healthy life expectancy  Freedom to make life choices  \n",
              "Afghanistan                    0.361                         0.000  \n",
              "Albania                        0.874                         0.383  \n",
              "Algeria                        0.785                         0.086  \n",
              "Argentina                      0.881                         0.471  \n",
              "Armenia                        0.815                         0.283  "
            ]
          },
          "metadata": {
            "tags": []
          },
          "execution_count": 45
        }
      ]
    },
    {
      "cell_type": "markdown",
      "metadata": {
        "id": "FaNpyTm9Ftuk"
      },
      "source": [
        "### Plotting GDP vs maximum Infection rate"
      ]
    },
    {
      "cell_type": "code",
      "metadata": {
        "id": "bToL4nFwFtul",
        "outputId": "77cdb4e4-3a53-4078-b8d3-51fd1483e981"
      },
      "source": [
        "x = data['GDP per capita']\n",
        "y = data['Max_Infection_Rate']\n",
        "sns.scatterplot(x,np.log(y))"
      ],
      "execution_count": null,
      "outputs": [
        {
          "output_type": "execute_result",
          "data": {
            "text/plain": [
              "<matplotlib.axes._subplots.AxesSubplot at 0x22dc70b35f8>"
            ]
          },
          "metadata": {
            "tags": []
          },
          "execution_count": 47
        },
        {
          "output_type": "display_data",
          "data": {
            "image/png": "[encoded data removed]",
            "text/plain": [
              "<Figure size 432x288 with 1 Axes>"
            ]
          },
          "metadata": {
            "tags": [],
            "needs_background": "light"
          }
        }
      ]
    },
    {
      "cell_type": "code",
      "metadata": {
        "id": "FHj8ZJx5Ftul",
        "outputId": "524943b4-3625-45ae-9dd3-ca78955fa5c2"
      },
      "source": [
        "sns.regplot(x,np.log(y))"
      ],
      "execution_count": null,
      "outputs": [
        {
          "output_type": "execute_result",
          "data": {
            "text/plain": [
              "<matplotlib.axes._subplots.AxesSubplot at 0x22dc711f908>"
            ]
          },
          "metadata": {
            "tags": []
          },
          "execution_count": 49
        },
        {
          "output_type": "display_data",
          "data": {
            "image/png": "[encoded data removed]",
            "text/plain": [
              "<Figure size 432x288 with 1 Axes>"
            ]
          },
          "metadata": {
            "tags": [],
            "needs_background": "light"
          }
        }
      ]
    },
    {
      "cell_type": "markdown",
      "metadata": {
        "id": "XKB03TEnFtum"
      },
      "source": [
        "### Plotting Social support vs maximum Infection rate"
      ]
    },
    {
      "cell_type": "code",
      "metadata": {
        "id": "xkKHj7Y4Ftum",
        "outputId": "7ee3fa64-0cb6-47c0-d008-20b267f675b5"
      },
      "source": [
        "a = data['Social support']\n",
        "sns.scatterplot(a,np.log(y))"
      ],
      "execution_count": null,
      "outputs": [
        {
          "output_type": "execute_result",
          "data": {
            "text/plain": [
              "<matplotlib.axes._subplots.AxesSubplot at 0x22dc7183978>"
            ]
          },
          "metadata": {
            "tags": []
          },
          "execution_count": 50
        },
        {
          "output_type": "display_data",
          "data": {
            "image/png": "[encoded data removed]",
            "text/plain": [
              "<Figure size 432x288 with 1 Axes>"
            ]
          },
          "metadata": {
            "tags": [],
            "needs_background": "light"
          }
        }
      ]
    },
    {
      "cell_type": "code",
      "metadata": {
        "id": "OSihmrfQFtun",
        "outputId": "b26e4fec-93f9-4856-9da6-ddb339c67037"
      },
      "source": [
        "sns.regplot(a,np.log(y))"
      ],
      "execution_count": null,
      "outputs": [
        {
          "output_type": "execute_result",
          "data": {
            "text/plain": [
              "<matplotlib.axes._subplots.AxesSubplot at 0x22dc71f2c88>"
            ]
          },
          "metadata": {
            "tags": []
          },
          "execution_count": 51
        },
        {
          "output_type": "display_data",
          "data": {
            "image/png": "[encoded data removed]",
            "text/plain": [
              "<Figure size 432x288 with 1 Axes>"
            ]
          },
          "metadata": {
            "tags": [],
            "needs_background": "light"
          }
        }
      ]
    },
    {
      "cell_type": "markdown",
      "metadata": {
        "id": "DOnAF1EKFtuo"
      },
      "source": [
        "### Plotting Healthy life expectancy vs maximum Infection rate"
      ]
    },
    {
      "cell_type": "code",
      "metadata": {
        "id": "cApesoYNFtup",
        "outputId": "7fd1390a-f37b-4ac6-ba7b-e4fb667e18ce"
      },
      "source": [
        "b = data['Healthy life expectancy']\n",
        "sns.scatterplot(b,np.log(y))"
      ],
      "execution_count": null,
      "outputs": [
        {
          "output_type": "execute_result",
          "data": {
            "text/plain": [
              "<matplotlib.axes._subplots.AxesSubplot at 0x22dc72442e8>"
            ]
          },
          "metadata": {
            "tags": []
          },
          "execution_count": 52
        },
        {
          "output_type": "display_data",
          "data": {
            "image/png": "[encoded data removed]",
            "text/plain": [
              "<Figure size 432x288 with 1 Axes>"
            ]
          },
          "metadata": {
            "tags": [],
            "needs_background": "light"
          }
        }
      ]
    },
    {
      "cell_type": "code",
      "metadata": {
        "id": "sINmJ9KmFtuq",
        "outputId": "d9211e5c-e546-4c9e-94ba-bb91b4531e63"
      },
      "source": [
        "sns.regplot(b,np.log(y))"
      ],
      "execution_count": null,
      "outputs": [
        {
          "output_type": "execute_result",
          "data": {
            "text/plain": [
              "<matplotlib.axes._subplots.AxesSubplot at 0x22dc72a55c0>"
            ]
          },
          "metadata": {
            "tags": []
          },
          "execution_count": 53
        },
        {
          "output_type": "display_data",
          "data": {
            "image/png": "[encoded data removed]",
            "text/plain": [
              "<Figure size 432x288 with 1 Axes>"
            ]
          },
          "metadata": {
            "tags": [],
            "needs_background": "light"
          }
        }
      ]
    },
    {
      "cell_type": "markdown",
      "metadata": {
        "id": "xwRtP1oQFtuq"
      },
      "source": [
        "### Plotting Freedom to make life choices vs maximum Infection rate"
      ]
    },
    {
      "cell_type": "code",
      "metadata": {
        "id": "166lst6cFtur",
        "outputId": "b5a7eded-6f65-4f66-d0e9-30b4fbd656f2"
      },
      "source": [
        "c = data['Freedom to make life choices']\n",
        "sns.scatterplot(c,np.log(y))"
      ],
      "execution_count": null,
      "outputs": [
        {
          "output_type": "execute_result",
          "data": {
            "text/plain": [
              "<matplotlib.axes._subplots.AxesSubplot at 0x22dc730a1d0>"
            ]
          },
          "metadata": {
            "tags": []
          },
          "execution_count": 54
        },
        {
          "output_type": "display_data",
          "data": {
            "image/png": "[encoded data removed]",
            "text/plain": [
              "<Figure size 432x288 with 1 Axes>"
            ]
          },
          "metadata": {
            "tags": [],
            "needs_background": "light"
          }
        }
      ]
    },
    {
      "cell_type": "code",
      "metadata": {
        "id": "pvkfan0DFtus",
        "outputId": "5b2706f0-7ced-428c-b841-7be222e32197"
      },
      "source": [
        "sns.regplot(c,np.log(y))"
      ],
      "execution_count": null,
      "outputs": [
        {
          "output_type": "execute_result",
          "data": {
            "text/plain": [
              "<matplotlib.axes._subplots.AxesSubplot at 0x22dc736bda0>"
            ]
          },
          "metadata": {
            "tags": []
          },
          "execution_count": 55
        },
        {
          "output_type": "display_data",
          "data": {
            "image/png": "[encoded data removed]",
            "text/plain": [
              "<Figure size 432x288 with 1 Axes>"
            ]
          },
          "metadata": {
            "tags": [],
            "needs_background": "light"
          }
        }
      ]
    },
    {
      "cell_type": "code",
      "metadata": {
        "id": "KpV5oQxvFtus"
      },
      "source": [
        ""
      ],
      "execution_count": null,
      "outputs": []
    }
  ]
}